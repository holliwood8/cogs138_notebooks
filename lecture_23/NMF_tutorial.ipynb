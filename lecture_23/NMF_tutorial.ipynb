{
 "cells": [
  {
   "cell_type": "markdown",
   "id": "46b98a52-e92b-4ff5-a2bf-692c3496cef2",
   "metadata": {},
   "source": [
    "# Matrix Factorization \n",
    "### Application to an auditory fMRI dataset"
   ]
  },
  {
   "cell_type": "markdown",
   "id": "bd7935ed-a07c-4835-bb14-b436ec25f7ee",
   "metadata": {},
   "source": [
    "### Tutorial Objectives\n",
    "\n",
    "In this tutorial, we'll apply non-negative matrix factorization to an auditory fMRI data where participants listened to 165 natural sounds.\n",
    "Here, we will:\n",
    "\n",
    "1.\tLoad the preprocessed fMRI data and understand the data attributes and perform some basic visualizations <br>\n",
    "2.\tApply and compare two different versions of the non-negative matrix factorization algorithm <br>\n",
    "3.  Plot how the reconstruction error varies as a a function of the number of components <br>\n",
    "4.  Interpret the response profiles of the resulting components to search for music and speech-selective neural populations <br>"
   ]
  },
  {
   "cell_type": "markdown",
   "id": "5c197166-ecd9-4baf-a1d0-abfad58ffa07",
   "metadata": {},
   "source": [
    "<b>Motivation: </b>When we measure voxel response with fMRI, we measure an aggregated activity across hundreds of thousands of neurons. Presumably, there are a relatively small number of types of neural populations in these voxels. Each of these neural population will have a distinctive response profile over the sound set.\n",
    "And voxels have different proportions of the different neural population types.\n",
    "But what we measure in an fMRI experiment is the voxel’s response to sounds and our goal is to recover the response profiles of different neural populations and their anatomical proportions within every voxel (i.e. to demix the voxel responses).  \n"
   ]
  },
  {
   "cell_type": "code",
   "execution_count": 1,
   "id": "0058ba31-7dcd-4346-9c5e-3706a52ed300",
   "metadata": {},
   "outputs": [
    {
     "name": "stdout",
     "output_type": "stream",
     "text": [
      "Requirement already satisfied: playsound in /opt/anaconda3/lib/python3.11/site-packages (1.3.0)\n",
      "Requirement already satisfied: nimfa in /opt/anaconda3/lib/python3.11/site-packages (1.4.0)\n",
      "Requirement already satisfied: numpy>=1.7.0 in /opt/anaconda3/lib/python3.11/site-packages (from nimfa) (1.23.5)\n",
      "Requirement already satisfied: scipy>=0.12.0 in /opt/anaconda3/lib/python3.11/site-packages (from nimfa) (1.10.1)\n"
     ]
    }
   ],
   "source": [
    "# Installing the required libraries\n",
    "!pip install playsound\n",
    "!pip install nimfa"
   ]
  },
  {
   "cell_type": "code",
   "execution_count": 2,
   "id": "ce44cd28-c187-4406-a966-1ded5bb0ae30",
   "metadata": {},
   "outputs": [],
   "source": [
    "import scipy.io as sio\n",
    "import nimfa \n",
    "from playsound import playsound\n",
    "import numpy as np\n",
    "import matplotlib.pyplot as plt \n",
    "import glob, os, requests\n",
    "import pandas as pd\n",
    "import seaborn as sns"
   ]
  },
  {
   "cell_type": "markdown",
   "id": "e0722b5d-d3d0-48ed-8ae0-d9741fe9c15e",
   "metadata": {},
   "source": [
    "### Downloading the data"
   ]
  },
  {
   "cell_type": "code",
   "execution_count": 3,
   "id": "089d7450-eb6d-49ae-93b7-2a1209ace66d",
   "metadata": {},
   "outputs": [
    {
     "name": "stdout",
     "output_type": "stream",
     "text": [
      "Archive:  data.zip\n",
      "   creating: data/\n",
      "  inflating: data/.DS_Store          \n",
      "  inflating: __MACOSX/data/._.DS_Store  \n",
      "  inflating: data/data_matrix.mat    \n",
      "  inflating: __MACOSX/data/._data_matrix.mat  \n",
      "   creating: data/stimuli/\n",
      "  inflating: __MACOSX/data/._stimuli  \n",
      "  inflating: data/stimuli/category_labels.csv  \n",
      "  inflating: __MACOSX/data/stimuli/._category_labels.csv  \n",
      "   creating: data/stimuli/wav/\n",
      "  inflating: __MACOSX/data/stimuli/._wav  \n",
      "  inflating: data/stimuli/.DS_Store  \n",
      "  inflating: __MACOSX/data/stimuli/._.DS_Store  \n",
      "   creating: data/stimuli/.ipynb_checkpoints/\n",
      "  inflating: data/stimuli/wav/stim83_cicadas.wav  \n",
      "  inflating: __MACOSX/data/stimuli/wav/._stim83_cicadas.wav  \n",
      "  inflating: data/stimuli/wav/stim387_typing.wav  \n",
      "  inflating: __MACOSX/data/stimuli/wav/._stim387_typing.wav  \n",
      "  inflating: data/stimuli/wav/stim224_walking_on_leaves.wav  \n",
      "  inflating: __MACOSX/data/stimuli/wav/._stim224_walking_on_leaves.wav  \n",
      "  inflating: data/stimuli/wav/stim29_biting_and_chewing.wav  \n",
      "  inflating: __MACOSX/data/stimuli/wav/._stim29_biting_and_chewing.wav  \n",
      "  inflating: data/stimuli/wav/stim488_busy_signal.wav  \n",
      "  inflating: __MACOSX/data/stimuli/wav/._stim488_busy_signal.wav  \n",
      "  inflating: data/stimuli/wav/stim232_man_speaking.wav  \n",
      "  inflating: __MACOSX/data/stimuli/wav/._stim232_man_speaking.wav  \n",
      "  inflating: data/stimuli/wav/stim158_flushing.wav  \n",
      "  inflating: __MACOSX/data/stimuli/wav/._stim158_flushing.wav  \n",
      "  inflating: data/stimuli/wav/stim405_whispering.wav  \n",
      "  inflating: __MACOSX/data/stimuli/wav/._stim405_whispering.wav  \n",
      "  inflating: data/stimuli/wav/stim33_bluegrass.wav  \n",
      "  inflating: __MACOSX/data/stimuli/wav/._stim33_bluegrass.wav  \n",
      "  inflating: data/stimuli/wav/stim155_flag_flapping.wav  \n",
      "  inflating: __MACOSX/data/stimuli/wav/._stim155_flag_flapping.wav  \n",
      "  inflating: data/stimuli/wav/stim186_hammering.wav  \n",
      "  inflating: __MACOSX/data/stimuli/wav/._stim186_hammering.wav  \n",
      "  inflating: data/stimuli/wav/stim512_heart_beat.wav  \n",
      "  inflating: __MACOSX/data/stimuli/wav/._stim512_heart_beat.wav  \n",
      "  inflating: data/stimuli/wav/stim517_soundtrack_from_an_action_scene.wav  \n",
      "  inflating: __MACOSX/data/stimuli/wav/._stim517_soundtrack_from_an_action_scene.wav  \n",
      "  inflating: data/stimuli/wav/stim197_road_traffic.wav  \n",
      "  inflating: __MACOSX/data/stimuli/wav/._stim197_road_traffic.wav  \n",
      "  inflating: data/stimuli/wav/stim332_angry_shouting.wav  \n",
      "  inflating: __MACOSX/data/stimuli/wav/._stim332_angry_shouting.wav  \n",
      "  inflating: data/stimuli/wav/stim524_cartoon_sound_effects.wav  \n",
      "  inflating: __MACOSX/data/stimuli/wav/._stim524_cartoon_sound_effects.wav  \n",
      "  inflating: data/stimuli/wav/stim411_car_power_windows.wav  \n",
      "  inflating: __MACOSX/data/stimuli/wav/._stim411_car_power_windows.wav  \n",
      "  inflating: data/stimuli/wav/stim498_computer_startup_sound.wav  \n",
      "  inflating: __MACOSX/data/stimuli/wav/._stim498_computer_startup_sound.wav  \n",
      "  inflating: data/stimuli/wav/stim289_rap_song.wav  \n",
      "  inflating: __MACOSX/data/stimuli/wav/._stim289_rap_song.wav  \n",
      "  inflating: data/stimuli/wav/stim18_basketball_dribbling.wav  \n",
      "  inflating: __MACOSX/data/stimuli/wav/._stim18_basketball_dribbling.wav  \n",
      "  inflating: data/stimuli/wav/stim394_violin.wav  \n",
      "  inflating: __MACOSX/data/stimuli/wav/._stim394_violin.wav  \n",
      "  inflating: data/stimuli/wav/stim364_tearing.wav  \n",
      "  inflating: __MACOSX/data/stimuli/wav/._stim364_tearing.wav  \n",
      "  inflating: data/stimuli/wav/stim35_boiling_water.wav  \n",
      "  inflating: __MACOSX/data/stimuli/wav/._stim35_boiling_water.wav  \n",
      "  inflating: data/stimuli/wav/stim136_drum_roll.wav  \n",
      "  inflating: __MACOSX/data/stimuli/wav/._stim136_drum_roll.wav  \n",
      "  inflating: data/stimuli/wav/stim25_bike_bell.wav  \n",
      "  inflating: __MACOSX/data/stimuli/wav/._stim25_bike_bell.wav  \n",
      "  inflating: data/stimuli/wav/stim504_german.wav  \n",
      "  inflating: __MACOSX/data/stimuli/wav/._stim504_german.wav  \n",
      "  inflating: data/stimuli/wav/stim236_microwave_running.wav  \n",
      "  inflating: __MACOSX/data/stimuli/wav/._stim236_microwave_running.wav  \n",
      "  inflating: data/stimuli/wav/stim437_contemporary_pop_song.wav  \n",
      "  inflating: __MACOSX/data/stimuli/wav/._stim437_contemporary_pop_song.wav  \n",
      "  inflating: data/stimuli/wav/stim312_wind.wav  \n",
      "  inflating: __MACOSX/data/stimuli/wav/._stim312_wind.wav  \n",
      "  inflating: data/stimuli/wav/stim138_duck_quack.wav  \n",
      "  inflating: __MACOSX/data/stimuli/wav/._stim138_duck_quack.wav  \n",
      "  inflating: data/stimuli/wav/stim254_orchestra_music.wav  \n",
      "  inflating: __MACOSX/data/stimuli/wav/._stim254_orchestra_music.wav  \n",
      "  inflating: data/stimuli/wav/stim347_songbird.wav  \n",
      "  inflating: __MACOSX/data/stimuli/wav/._stim347_songbird.wav  \n",
      "  inflating: data/stimuli/wav/stim268_piano.wav  \n",
      "  inflating: __MACOSX/data/stimuli/wav/._stim268_piano.wav  \n",
      "  inflating: data/stimuli/wav/.DS_Store  \n",
      "  inflating: __MACOSX/data/stimuli/wav/._.DS_Store  \n",
      "  inflating: data/stimuli/wav/stim193_heavy_metal_music.wav  \n",
      "  inflating: __MACOSX/data/stimuli/wav/._stim193_heavy_metal_music.wav  \n",
      "  inflating: data/stimuli/wav/stim167_gargling.wav  \n",
      "  inflating: __MACOSX/data/stimuli/wav/._stim167_gargling.wav  \n",
      "  inflating: data/stimuli/wav/stim490_soundtrack_from_a_western.wav  \n",
      "  inflating: __MACOSX/data/stimuli/wav/._stim490_soundtrack_from_a_western.wav  \n",
      "  inflating: data/stimuli/wav/stim108_telephone_dialing.wav  \n",
      "  inflating: __MACOSX/data/stimuli/wav/._stim108_telephone_dialing.wav  \n",
      "  inflating: data/stimuli/wav/stim11_baby_crying.wav  \n",
      "  inflating: __MACOSX/data/stimuli/wav/._stim11_baby_crying.wav  \n",
      "  inflating: data/stimuli/wav/stim318_school_bell.wav  \n",
      "  inflating: __MACOSX/data/stimuli/wav/._stim318_school_bell.wav  \n",
      "  inflating: data/stimuli/wav/stim41_breathing.wav  \n",
      "  inflating: __MACOSX/data/stimuli/wav/._stim41_breathing.wav  \n",
      "  inflating: data/stimuli/wav/stim309_running_up_stairs.wav  \n",
      "  inflating: __MACOSX/data/stimuli/wav/._stim309_running_up_stairs.wav  \n",
      "  inflating: data/stimuli/wav/stim117_dog_drinking.wav  \n",
      "  inflating: __MACOSX/data/stimuli/wav/._stim117_dog_drinking.wav  \n",
      "  inflating: data/stimuli/wav/stim162_frog_croaking.wav  \n",
      "  inflating: __MACOSX/data/stimuli/wav/._stim162_frog_croaking.wav  \n",
      "  inflating: data/stimuli/wav/stim116_dog_barking.wav  \n",
      "  inflating: __MACOSX/data/stimuli/wav/._stim116_dog_barking.wav  \n",
      "  inflating: data/stimuli/wav/stim200_humming.wav  \n",
      "  inflating: __MACOSX/data/stimuli/wav/._stim200_humming.wav  \n",
      "  inflating: data/stimuli/wav/stim398_walking_on_gravel.wav  \n",
      "  inflating: __MACOSX/data/stimuli/wav/._stim398_walking_on_gravel.wav  \n",
      "  inflating: data/stimuli/wav/stim508_russian.wav  \n",
      "  inflating: __MACOSX/data/stimuli/wav/._stim508_russian.wav  \n",
      "  inflating: data/stimuli/wav/stim68_cat_meowing.wav  \n",
      "  inflating: __MACOSX/data/stimuli/wav/._stim68_cat_meowing.wav  \n",
      "  inflating: data/stimuli/wav/stim60_car_horn.wav  \n",
      "  inflating: __MACOSX/data/stimuli/wav/._stim60_car_horn.wav  \n",
      "  inflating: data/stimuli/wav/stim370_toothbrushing.wav  \n",
      "  inflating: __MACOSX/data/stimuli/wav/._stim370_toothbrushing.wav  \n",
      "  inflating: data/stimuli/wav/stim401_walking_with_heels.wav  \n",
      "  inflating: __MACOSX/data/stimuli/wav/._stim401_walking_with_heels.wav  \n",
      "  inflating: data/stimuli/wav/stim371_squeaky_toy.wav  \n",
      "  inflating: __MACOSX/data/stimuli/wav/._stim371_squeaky_toy.wav  \n",
      "  inflating: data/stimuli/wav/stim292_crow.wav  \n",
      "  inflating: __MACOSX/data/stimuli/wav/._stim292_crow.wav  \n",
      "  inflating: data/stimuli/wav/stim209_kettle_whistling.wav  \n",
      "  inflating: __MACOSX/data/stimuli/wav/._stim209_kettle_whistling.wav  \n",
      "  inflating: data/stimuli/wav/stim105_cutting_with_scissors.wav  \n",
      "  inflating: __MACOSX/data/stimuli/wav/._stim105_cutting_with_scissors.wav  \n",
      "  inflating: data/stimuli/wav/stim185_hair_dryer.wav  \n",
      "  inflating: __MACOSX/data/stimuli/wav/._stim185_hair_dryer.wav  \n",
      "  inflating: data/stimuli/wav/stim360_cymbal_crash.wav  \n",
      "  inflating: __MACOSX/data/stimuli/wav/._stim360_cymbal_crash.wav  \n",
      "  inflating: data/stimuli/wav/stim91_coughing.wav  \n",
      "  inflating: __MACOSX/data/stimuli/wav/._stim91_coughing.wav  \n",
      "  inflating: data/stimuli/wav/stim320_scratching.wav  \n",
      "  inflating: __MACOSX/data/stimuli/wav/._stim320_scratching.wav  \n",
      "  inflating: data/stimuli/wav/stim485_soul_music.wav  \n",
      "  inflating: __MACOSX/data/stimuli/wav/._stim485_soul_music.wav  \n",
      "  inflating: data/stimuli/wav/stim315_saxophone_jazz_solo.wav  \n",
      "  inflating: __MACOSX/data/stimuli/wav/._stim315_saxophone_jazz_solo.wav  \n",
      "  inflating: data/stimuli/wav/stim150_finger_tapping.wav  \n",
      "  inflating: __MACOSX/data/stimuli/wav/._stim150_finger_tapping.wav  \n",
      "  inflating: data/stimuli/wav/stim523_computer-synthesized_speech.wav  \n",
      "  inflating: __MACOSX/data/stimuli/wav/._stim523_computer-synthesized_speech.wav  \n",
      "  inflating: data/stimuli/wav/stim194_helicopter.wav  \n",
      "  inflating: __MACOSX/data/stimuli/wav/._stim194_helicopter.wav  \n",
      "  inflating: data/stimuli/wav/stim420_zipper.wav  \n",
      "  inflating: __MACOSX/data/stimuli/wav/._stim420_zipper.wav  \n",
      "  inflating: data/stimuli/wav/stim383_truck_beeping_while_backing_up.wav  \n",
      "  inflating: __MACOSX/data/stimuli/wav/._stim383_truck_beeping_while_backing_up.wav  \n",
      "  inflating: data/stimuli/wav/stim163_frying.wav  \n",
      "  inflating: __MACOSX/data/stimuli/wav/._stim163_frying.wav  \n",
      "  inflating: data/stimuli/wav/stim366_telephone_ringing.wav  \n",
      "  inflating: __MACOSX/data/stimuli/wav/._stim366_telephone_ringing.wav  \n",
      "  inflating: data/stimuli/wav/stim50_camera_snapping_photos.wav  \n",
      "  inflating: __MACOSX/data/stimuli/wav/._stim50_camera_snapping_photos.wav  \n",
      "  inflating: data/stimuli/wav/stim246_newspaper_rustling.wav  \n",
      "  inflating: __MACOSX/data/stimuli/wav/._stim246_newspaper_rustling.wav  \n",
      "  inflating: data/stimuli/wav/stim329_electric_shaver.wav  \n",
      "  inflating: __MACOSX/data/stimuli/wav/._stim329_electric_shaver.wav  \n",
      "  inflating: data/stimuli/wav/stim384_trumpet_jazz_solo.wav  \n",
      "  inflating: __MACOSX/data/stimuli/wav/._stim384_trumpet_jazz_solo.wav  \n",
      "  inflating: data/stimuli/wav/stim484_soundtrack_for_a_sad_movie_scene.wav  \n",
      "  inflating: __MACOSX/data/stimuli/wav/._stim484_soundtrack_for_a_sad_movie_scene.wav  \n",
      "  inflating: data/stimuli/wav/stim375_train_whistle.wav  \n",
      "  inflating: __MACOSX/data/stimuli/wav/._stim375_train_whistle.wav  \n",
      "  inflating: data/stimuli/wav/stim293_whistle.wav  \n",
      "  inflating: __MACOSX/data/stimuli/wav/._stim293_whistle.wav  \n",
      "  inflating: data/stimuli/wav/stim62_car_skidding.wav  \n",
      "  inflating: __MACOSX/data/stimuli/wav/._stim62_car_skidding.wav  \n",
      "  inflating: data/stimuli/wav/stim279_printing.wav  \n",
      "  inflating: __MACOSX/data/stimuli/wav/._stim279_printing.wav  \n",
      "  inflating: data/stimuli/wav/stim465_song_from_a_musical.wav  \n",
      "  inflating: __MACOSX/data/stimuli/wav/._stim465_song_from_a_musical.wav  \n",
      "  inflating: data/stimuli/wav/stim78_chimes_in_the_wind.wav  \n",
      "  inflating: __MACOSX/data/stimuli/wav/._stim78_chimes_in_the_wind.wav  \n",
      "  inflating: data/stimuli/wav/stim88_coin_dropping.wav  \n",
      "  inflating: __MACOSX/data/stimuli/wav/._stim88_coin_dropping.wav  \n",
      "  inflating: data/stimuli/wav/stim503_italian.wav  \n",
      "  inflating: __MACOSX/data/stimuli/wav/._stim503_italian.wav  \n",
      "  inflating: data/stimuli/wav/stim358_swimming.wav  \n",
      "  inflating: __MACOSX/data/stimuli/wav/._stim358_swimming.wav  \n",
      "  inflating: data/stimuli/wav/stim66_cash_register.wav  \n",
      "  inflating: __MACOSX/data/stimuli/wav/._stim66_cash_register.wav  \n",
      "  inflating: data/stimuli/wav/stim86_clock_ticking.wav  \n",
      "  inflating: __MACOSX/data/stimuli/wav/._stim86_clock_ticking.wav  \n",
      "  inflating: data/stimuli/wav/stim102_crumpling_paper.wav  \n",
      "  inflating: __MACOSX/data/stimuli/wav/._stim102_crumpling_paper.wav  \n",
      "  inflating: data/stimuli/wav/stim352_spraying.wav  \n",
      "  inflating: __MACOSX/data/stimuli/wav/._stim352_spraying.wav  \n",
      "  inflating: data/stimuli/wav/stim97_crickets.wav  \n",
      "  inflating: __MACOSX/data/stimuli/wav/._stim97_crickets.wav  \n",
      "  inflating: data/stimuli/wav/stim434_classic_rock.wav  \n",
      "  inflating: __MACOSX/data/stimuli/wav/._stim434_classic_rock.wav  \n",
      "  inflating: data/stimuli/wav/stim215_door_knocking.wav  \n",
      "  inflating: __MACOSX/data/stimuli/wav/._stim215_door_knocking.wav  \n",
      "  inflating: data/stimuli/wav/stim406_whistling.wav  \n",
      "  inflating: __MACOSX/data/stimuli/wav/._stim406_whistling.wav  \n",
      "  inflating: data/stimuli/wav/stim89_coin_in_vending_machine.wav  \n",
      "  inflating: __MACOSX/data/stimuli/wav/._stim89_coin_in_vending_machine.wav  \n",
      "  inflating: data/stimuli/wav/stim137_drum_solo.wav  \n",
      "  inflating: __MACOSX/data/stimuli/wav/._stim137_drum_solo.wav  \n",
      "  inflating: data/stimuli/wav/stim124_doorbell.wav  \n",
      "  inflating: __MACOSX/data/stimuli/wav/._stim124_doorbell.wav  \n",
      "  inflating: data/stimuli/wav/stim505_chinese.wav  \n",
      "  inflating: __MACOSX/data/stimuli/wav/._stim505_chinese.wav  \n",
      "  inflating: data/stimuli/wav/stim76_chair_rolling.wav  \n",
      "  inflating: __MACOSX/data/stimuli/wav/._stim76_chair_rolling.wav  \n",
      "  inflating: data/stimuli/wav/stim273_airplane_taking_off.wav  \n",
      "  inflating: __MACOSX/data/stimuli/wav/._stim273_airplane_taking_off.wav  \n",
      "  inflating: data/stimuli/wav/stim221_laughing.wav  \n",
      "  inflating: __MACOSX/data/stimuli/wav/._stim221_laughing.wav  \n",
      "  inflating: data/stimuli/wav/stim277_pouring_water_out_of_bottle.wav  \n",
      "  inflating: __MACOSX/data/stimuli/wav/._stim277_pouring_water_out_of_bottle.wav  \n",
      "  inflating: data/stimuli/wav/stim69_cat_purring.wav  \n",
      "  inflating: __MACOSX/data/stimuli/wav/._stim69_cat_purring.wav  \n",
      "  inflating: data/stimuli/wav/stim172_geese.wav  \n",
      "  inflating: __MACOSX/data/stimuli/wav/._stim172_geese.wav  \n",
      "  inflating: data/stimuli/wav/stim461_latin_music.wav  \n",
      "  inflating: __MACOSX/data/stimuli/wav/._stim461_latin_music.wav  \n",
      "  inflating: data/stimuli/wav/stim321_scream.wav  \n",
      "  inflating: __MACOSX/data/stimuli/wav/._stim321_scream.wav  \n",
      "  inflating: data/stimuli/wav/stim477_reggae.wav  \n",
      "  inflating: __MACOSX/data/stimuli/wav/._stim477_reggae.wav  \n",
      "  inflating: data/stimuli/wav/stim296_rock_guitar_solo.wav  \n",
      "  inflating: __MACOSX/data/stimuli/wav/._stim296_rock_guitar_solo.wav  \n",
      "  inflating: data/stimuli/wav/stim31_blender.wav  \n",
      "  inflating: __MACOSX/data/stimuli/wav/._stim31_blender.wav  \n",
      "  inflating: data/stimuli/wav/stim19_electric_bass.wav  \n",
      "  inflating: __MACOSX/data/stimuli/wav/._stim19_electric_bass.wav  \n",
      "  inflating: data/stimuli/wav/stim59_car_engine_starting.wav  \n",
      "  inflating: __MACOSX/data/stimuli/wav/._stim59_car_engine_starting.wav  \n",
      "  inflating: data/stimuli/wav/stim399_walking_on_hard_surface.wav  \n",
      "  inflating: __MACOSX/data/stimuli/wav/._stim399_walking_on_hard_surface.wav  \n",
      "  inflating: data/stimuli/wav/stim183_guitar.wav  \n",
      "  inflating: __MACOSX/data/stimuli/wav/._stim183_guitar.wav  \n",
      "  inflating: data/stimuli/wav/stim283_contemporary_rb.wav  \n",
      "  inflating: __MACOSX/data/stimuli/wav/._stim283_contemporary_rb.wav  \n",
      "  inflating: data/stimuli/wav/stim107_dial_tone.wav  \n",
      "  inflating: __MACOSX/data/stimuli/wav/._stim107_dial_tone.wav  \n",
      "  inflating: data/stimuli/wav/stim51_car_accelerating.wav  \n",
      "  inflating: __MACOSX/data/stimuli/wav/._stim51_car_accelerating.wav  \n",
      "  inflating: data/stimuli/wav/stim501_spanish.wav  \n",
      "  inflating: __MACOSX/data/stimuli/wav/._stim501_spanish.wav  \n",
      "  inflating: data/stimuli/wav/stim12_background_speech.wav  \n",
      "  inflating: __MACOSX/data/stimuli/wav/._stim12_background_speech.wav  \n",
      "  inflating: data/stimuli/wav/stim72_cello.wav  \n",
      "  inflating: __MACOSX/data/stimuli/wav/._stim72_cello.wav  \n",
      "  inflating: data/stimuli/wav/stim240_motorcycle_reving.wav  \n",
      "  inflating: __MACOSX/data/stimuli/wav/._stim240_motorcycle_reving.wav  \n",
      "  inflating: data/stimuli/wav/stim174_girl_speaking.wav  \n",
      "  inflating: __MACOSX/data/stimuli/wav/._stim174_girl_speaking.wav  \n",
      "  inflating: data/stimuli/wav/stim132_water_dripping.wav  \n",
      "  inflating: __MACOSX/data/stimuli/wav/._stim132_water_dripping.wav  \n",
      "  inflating: data/stimuli/wav/stim502_french.wav  \n",
      "  inflating: __MACOSX/data/stimuli/wav/._stim502_french.wav  \n",
      "  inflating: data/stimuli/wav/stim276_pouring_liquid.wav  \n",
      "  inflating: __MACOSX/data/stimuli/wav/._stim276_pouring_liquid.wav  \n",
      "  inflating: data/stimuli/wav/stim418_writing_on_paper.wav  \n",
      "  inflating: __MACOSX/data/stimuli/wav/._stim418_writing_on_paper.wav  \n",
      "  inflating: data/stimuli/wav/stim52_car_alarm.wav  \n",
      "  inflating: __MACOSX/data/stimuli/wav/._stim52_car_alarm.wav  \n",
      "  inflating: data/stimuli/wav/stim238_baby_talk.wav  \n",
      "  inflating: __MACOSX/data/stimuli/wav/._stim238_baby_talk.wav  \n",
      "  inflating: data/stimuli/wav/stim391_vacuum.wav  \n",
      "  inflating: __MACOSX/data/stimuli/wav/._stim391_vacuum.wav  \n",
      "  inflating: data/stimuli/wav/stim5_alarm_clock.wav  \n",
      "  inflating: __MACOSX/data/stimuli/wav/._stim5_alarm_clock.wav  \n",
      "  inflating: data/stimuli/wav/stim334_shuffling_cards.wav  \n",
      "  inflating: __MACOSX/data/stimuli/wav/._stim334_shuffling_cards.wav  \n",
      "  inflating: data/stimuli/wav/stim515_sports_anouncer.wav  \n",
      "  inflating: __MACOSX/data/stimuli/wav/._stim515_sports_anouncer.wav  \n",
      "  inflating: data/stimuli/wav/stim103_crying.wav  \n",
      "  inflating: __MACOSX/data/stimuli/wav/._stim103_crying.wav  \n",
      "  inflating: data/stimuli/wav/stim525_dog_panting.wav  \n",
      "  inflating: __MACOSX/data/stimuli/wav/._stim525_dog_panting.wav  \n",
      "  inflating: data/stimuli/wav/stim118_puppy_whining.wav  \n",
      "  inflating: __MACOSX/data/stimuli/wav/._stim118_puppy_whining.wav  \n",
      "  inflating: data/stimuli/wav/stim298_contemporary_rock_song.wav  \n",
      "  inflating: __MACOSX/data/stimuli/wav/._stim298_contemporary_rock_song.wav  \n",
      "  inflating: data/stimuli/wav/stim349_water_splashing.wav  \n",
      "  inflating: __MACOSX/data/stimuli/wav/._stim349_water_splashing.wav  \n",
      "  inflating: data/stimuli/wav/stim393_video_game_music.wav  \n",
      "  inflating: __MACOSX/data/stimuli/wav/._stim393_video_game_music.wav  \n",
      "  inflating: data/stimuli/wav/stim80_chopping_food.wav  \n",
      "  inflating: __MACOSX/data/stimuli/wav/._stim80_chopping_food.wav  \n",
      "  inflating: data/stimuli/wav/stim38_boy_speaking.wav  \n",
      "  inflating: __MACOSX/data/stimuli/wav/._stim38_boy_speaking.wav  \n",
      "  inflating: data/stimuli/wav/stim480_rubbing_hands.wav  \n",
      "  inflating: __MACOSX/data/stimuli/wav/._stim480_rubbing_hands.wav  \n",
      "  inflating: data/stimuli/wav/stim7_applause.wav  \n",
      "  inflating: __MACOSX/data/stimuli/wav/._stim7_applause.wav  \n",
      "  inflating: data/stimuli/wav/stim337_siren.wav  \n",
      "  inflating: __MACOSX/data/stimuli/wav/._stim337_siren.wav  \n",
      "  inflating: data/stimuli/wav/stim82_church_bells.wav  \n",
      "  inflating: __MACOSX/data/stimuli/wav/._stim82_church_bells.wav  \n",
      "  inflating: data/stimuli/wav/stim516_stream.wav  \n",
      "  inflating: __MACOSX/data/stimuli/wav/._stim516_stream.wav  \n",
      "  inflating: data/stimuli/wav/stim317_horror_film_sound_effects.wav  \n",
      "  inflating: __MACOSX/data/stimuli/wav/._stim317_horror_film_sound_effects.wav  \n",
      "  inflating: data/stimuli/wav/stim368_thunder.wav  \n",
      "  inflating: __MACOSX/data/stimuli/wav/._stim368_thunder.wav  \n",
      "  inflating: data/stimuli/wav/stim23_bees_buzzing.wav  \n",
      "  inflating: __MACOSX/data/stimuli/wav/._stim23_bees_buzzing.wav  \n",
      "  inflating: data/stimuli/wav/stim506_hindi.wav  \n",
      "  inflating: __MACOSX/data/stimuli/wav/._stim506_hindi.wav  \n",
      "  inflating: data/stimuli/wav/stim422_baby_babbling.wav  \n",
      "  inflating: __MACOSX/data/stimuli/wav/._stim422_baby_babbling.wav  \n",
      "  inflating: data/stimuli/wav/stim513_running_water.wav  \n",
      "  inflating: __MACOSX/data/stimuli/wav/._stim513_running_water.wav  \n",
      "  inflating: data/stimuli/wav/stim285_radio_or_tv_static.wav  \n",
      "  inflating: __MACOSX/data/stimuli/wav/._stim285_radio_or_tv_static.wav  \n",
      "  inflating: data/stimuli/wav/stim71_cellphone_vibrating.wav  \n",
      "  inflating: __MACOSX/data/stimuli/wav/._stim71_cellphone_vibrating.wav  \n",
      "  inflating: data/stimuli/wav/stim414_woman_speaking.wav  \n",
      "  inflating: __MACOSX/data/stimuli/wav/._stim414_woman_speaking.wav  \n",
      "  inflating: data/stimuli/wav/stim156_wings_flapping.wav  \n",
      "  inflating: __MACOSX/data/stimuli/wav/._stim156_wings_flapping.wav  \n",
      "  inflating: data/stimuli/wav/stim114_dishes_clanking.wav  \n",
      "  inflating: __MACOSX/data/stimuli/wav/._stim114_dishes_clanking.wav  \n",
      "  inflating: data/stimuli/wav/stim98_crowd_cheering.wav  \n",
      "  inflating: __MACOSX/data/stimuli/wav/._stim98_crowd_cheering.wav  \n",
      "  inflating: data/stimuli/wav/stim34_blues_band.wav  \n",
      "  inflating: __MACOSX/data/stimuli/wav/._stim34_blues_band.wav  \n",
      "  inflating: data/stimuli/wav/stim510_crowd_laughing.wav  \n",
      "  inflating: __MACOSX/data/stimuli/wav/._stim510_crowd_laughing.wav  \n",
      "  inflating: data/stimuli/wav/stim392_velcro.wav  \n",
      "  inflating: __MACOSX/data/stimuli/wav/._stim392_velcro.wav  \n",
      "  inflating: data/stimuli/wav/stim211_keys_jingling.wav  \n",
      "  inflating: __MACOSX/data/stimuli/wav/._stim211_keys_jingling.wav  \n",
      "  inflating: data/stimuli/wav/stim365_techno.wav  \n",
      "  inflating: __MACOSX/data/stimuli/wav/._stim365_techno.wav  \n",
      "  inflating: data/stimuli/wav/stim475_punk_music.wav  \n",
      "  inflating: __MACOSX/data/stimuli/wav/._stim475_punk_music.wav  \n",
      "  inflating: data/stimuli/wav/stim182_grunting_and_groaning.wav  \n",
      "  inflating: __MACOSX/data/stimuli/wav/._stim182_grunting_and_groaning.wav  \n",
      "  inflating: data/stimuli/wav/stim140_electric_hand_drill.wav  \n",
      "  inflating: __MACOSX/data/stimuli/wav/._stim140_electric_hand_drill.wav  \n",
      "  inflating: data/stimuli/wav/stim28_big_band_music.wav  \n",
      "  inflating: __MACOSX/data/stimuli/wav/._stim28_big_band_music.wav  \n",
      "  inflating: data/stimuli/wav/stim527_ringtone.wav  \n",
      "  inflating: __MACOSX/data/stimuli/wav/._stim527_ringtone.wav  \n",
      "  inflating: data/stimuli/wav/stim373_train_warning_bell.wav  \n",
      "  inflating: __MACOSX/data/stimuli/wav/._stim373_train_warning_bell.wav  \n",
      "  inflating: data/stimuli/wav/stim92_country_song.wav  \n",
      "  inflating: __MACOSX/data/stimuli/wav/._stim92_country_song.wav  \n",
      "  inflating: data/stimuli/wav/stim486_sports_arena_buzzer.wav  \n",
      "  inflating: __MACOSX/data/stimuli/wav/._stim486_sports_arena_buzzer.wav  \n"
     ]
    }
   ],
   "source": [
    "#@title Data retrieval\n",
    "\n",
    "fname = \"data.zip\"\n",
    "url = \"https://osf.io/uhkez/download\"\n",
    "\n",
    "if not os.path.isfile(fname):\n",
    "  try:\n",
    "    r = requests.get(url)\n",
    "  except requests.ConnectionError:\n",
    "    print(\"!!! Failed to download data !!!\")\n",
    "  else:\n",
    "    if r.status_code != requests.codes.ok:\n",
    "      print(\"!!! Failed to download data !!!\")\n",
    "    else:\n",
    "      with open(fname, \"wb\") as fid:\n",
    "        fid.write(r.content)\n",
    "!unzip data.zip"
   ]
  },
  {
   "cell_type": "markdown",
   "id": "edead15f-22d9-481c-ab60-a19026954a28",
   "metadata": {},
   "source": [
    "### Load data and understand the data attributes"
   ]
  },
  {
   "cell_type": "code",
   "execution_count": 4,
   "id": "51a8b41c-6386-4ce3-abe7-167d0eb3a255",
   "metadata": {},
   "outputs": [],
   "source": [
    "# Load data \n",
    "data = sio.loadmat('data/data_matrix.mat')"
   ]
  },
  {
   "cell_type": "code",
   "execution_count": 5,
   "id": "797be736-fa2a-4e15-95dc-94c7dacc4268",
   "metadata": {},
   "outputs": [
    {
     "data": {
      "text/plain": [
       "dict_keys(['__header__', '__version__', '__globals__', 'D', 'categories', 'category_labels', 'component_names', 'stim_names', 'subject_indices'])"
      ]
     },
     "execution_count": 5,
     "metadata": {},
     "output_type": "execute_result"
    }
   ],
   "source": [
    "# Check data attributes \n",
    "data.keys()"
   ]
  },
  {
   "cell_type": "code",
   "execution_count": 7,
   "id": "30513528-73c4-48a2-910a-44ea74211ced",
   "metadata": {},
   "outputs": [],
   "source": [
    "# Load filepaths of all stimuli\n",
    "wav_dir = 'data/stimuli/wav'\n",
    "\n",
    "stim_names = np.concatenate(data['stim_names'][0],0) \n",
    "stim_paths = np.array([\"%s/%s.wav\" % (wav_dir, name) for name in stim_names])"
   ]
  },
  {
   "cell_type": "code",
   "execution_count": 10,
   "id": "0b74392b-aab4-4035-9171-0a7c294464ea",
   "metadata": {},
   "outputs": [
    {
     "data": {
      "text/plain": [
       "(165, (165, 11065, 3))"
      ]
     },
     "execution_count": 10,
     "metadata": {},
     "output_type": "execute_result"
    }
   ],
   "source": [
    "len(stim_paths), data['D'].shape"
   ]
  },
  {
   "cell_type": "code",
   "execution_count": 12,
   "id": "a7c63723-16cc-4c72-8713-a2e709b12932",
   "metadata": {},
   "outputs": [
    {
     "data": {
      "text/plain": [
       "array(['AniNonVoc', 'AniVoc', 'EngSpeech', 'EnvSound', 'ForSpeech',\n",
       "       'HumNonVoc', 'HumVoc', 'Mechanical', 'Music', 'Nature', 'Song'],\n",
       "      dtype=object)"
      ]
     },
     "execution_count": 12,
     "metadata": {},
     "output_type": "execute_result"
    }
   ],
   "source": [
    "# Load the category labels of all sounds\n",
    "labels = pd.read_csv('data/stimuli/category_labels.csv', index_col = 'stimulus')\n",
    "np.unique(labels)"
   ]
  },
  {
   "cell_type": "code",
   "execution_count": 13,
   "id": "e1e845d5-524e-4f52-a1d3-a7c393e31ce9",
   "metadata": {},
   "outputs": [],
   "source": [
    "# Order the labels based on stimulus names \n",
    "categories = labels.loc[stim_names, 'label'].values"
   ]
  },
  {
   "cell_type": "code",
   "execution_count": 16,
   "id": "cca17ebf-8b34-4a2e-b392-11d04468950c",
   "metadata": {},
   "outputs": [
    {
     "name": "stdout",
     "output_type": "stream",
     "text": [
      "Playing sound from the AniNonVoc category\n"
     ]
    }
   ],
   "source": [
    "# Play sample sounds from the dataset\n",
    "idx = 90\n",
    "stim_path, category = stim_paths[idx], categories[idx]\n",
    "print('Playing sound from the %s category' % category)\n",
    "playsound(stim_path)"
   ]
  },
  {
   "cell_type": "markdown",
   "id": "eab36941-2872-4ce3-8a46-cf23e178b99f",
   "metadata": {},
   "source": [
    "<div class=\"alert alert-success\"> <b>*** Tasks *** </b><br>\n",
    "    <b>(a). Average the fMRI responses across repetitions to create the data matrix  </b><br>\n",
    "    <b>(b). Visualize the response of an example voxel to all sounds  </b><br>\n",
    "</div>"
   ]
  },
  {
   "cell_type": "code",
   "execution_count": 17,
   "id": "337570d2-20cb-4457-bd96-ff33228fd3d8",
   "metadata": {},
   "outputs": [
    {
     "data": {
      "text/plain": [
       "(165, 11065)"
      ]
     },
     "execution_count": 17,
     "metadata": {},
     "output_type": "execute_result"
    }
   ],
   "source": [
    "# (a)\n",
    "brain_data = np.nanmean(data['D'], -1)\n",
    "brain_data.shape"
   ]
  },
  {
   "cell_type": "code",
   "execution_count": 19,
   "id": "991039b3-62c3-493f-98ad-0690dbc4e851",
   "metadata": {},
   "outputs": [
    {
     "data": {
      "image/png": "[encoded data removed]",
      "text/plain": [
       "<Figure size 640x480 with 1 Axes>"
      ]
     },
     "metadata": {},
     "output_type": "display_data"
    }
   ],
   "source": [
    "# (b)\n",
    "idx = 100\n",
    "plt.stem(brain_data[:,idx]); \n",
    "plt.xlabel('Stimulus #')\n",
    "plt.ylabel('fMRI response of %dth voxel' % idx); "
   ]
  },
  {
   "cell_type": "markdown",
   "id": "95d51fa9-234f-4d13-9b2a-589d4b12f7fb",
   "metadata": {},
   "source": [
    "### Apply two versions of NMF on the data <br>\n",
    "(a) Standard NMF using `nimfa.Nmf` <br>\n",
    "(b) Sparse NMF using `nimfa.Snmf`"
   ]
  },
  {
   "cell_type": "markdown",
   "id": "a16ae67b-28bc-40e7-9b00-856f6d56b2cf",
   "metadata": {},
   "source": [
    "<div class=\"alert alert-success\"> <b>*** Tasks *** </b><br>\n",
    "    <b>As seen from the visualization above, voxel responses can sometimes be negative. To apply NMF (or its variants) on the data, we need non-negative data. \n",
    "To make the data matrix suitable for NMF so that it contains all positive entries, we can perform a baseline shift of voxel responses by subtracting the minimum response of each voxel (across all stimuli) from its responses to all stimuli. \n",
    "    In the following cell, perform this operation and store the result in a variable `nn_data`</b> \n",
    "</div>"
   ]
  },
  {
   "cell_type": "code",
   "execution_count": 20,
   "id": "aeec684f-6170-4e54-80e3-16aac634166d",
   "metadata": {},
   "outputs": [
    {
     "data": {
      "text/plain": [
       "0.0"
      ]
     },
     "execution_count": 20,
     "metadata": {},
     "output_type": "execute_result"
    }
   ],
   "source": [
    "# Handling the non-negative entries in the data \n",
    "nn_data = brain_data - brain_data.min(0)\n",
    "np.min(nn_data)"
   ]
  },
  {
   "cell_type": "markdown",
   "id": "d7168905-d72a-491c-ab7d-2f64b7449cce",
   "metadata": {},
   "source": [
    "##### Here, we will apply both the NMF methods on your non-negative data and compute the reconstruction error in each case "
   ]
  },
  {
   "cell_type": "code",
   "execution_count": 21,
   "id": "1ad5f14e-9b1a-4b6e-a019-48591f2fc8dc",
   "metadata": {},
   "outputs": [
    {
     "name": "stdout",
     "output_type": "stream",
     "text": [
      "Standard NMF RSS: 12.2705\n",
      "Sparse NMF RSS: 9.5507\n"
     ]
    }
   ],
   "source": [
    "n_components = 10\n",
    "standard_nmf = nimfa.Nmf(nn_data, seed=\"nndsvd\", rank=n_components, max_iter=12, update='euclidean', objective='fro')\n",
    "standard_nmf_fit = standard_nmf()\n",
    "\n",
    "print('Standard NMF RSS: %5.4f' % standard_nmf_fit.fit.rss())\n",
    "\n",
    "snmf = nimfa.Snmf(nn_data, seed=\"nndsvd\", rank=n_components, max_iter=12, version='r',\n",
    "                  eta=1., beta=1e-4, i_conv=10, w_min_change=0)\n",
    "snmf_fit = snmf()\n",
    "print('Sparse NMF RSS: %5.4f' % snmf_fit.fit.rss())\n"
   ]
  },
  {
   "cell_type": "markdown",
   "id": "22647917-2dd8-474a-9665-ce54f21ef368",
   "metadata": {},
   "source": [
    "_Q. Which one is better?_"
   ]
  },
  {
   "cell_type": "markdown",
   "id": "b313bbec-4d3c-42df-bf56-ef083ff1dd97",
   "metadata": {},
   "source": [
    "<div class=\"alert alert-success\"> <b>*** Tasks *** </b><br>\n",
    "    <b>Use the better NMF approach and plot the reconstruction error (residual sum of squares) as a function of the number of components, varying the component number from 1 through 10  </b><br>\n",
    "</div>"
   ]
  },
  {
   "cell_type": "markdown",
   "id": "a99caacf-7a52-457e-9f36-41eb79ad6131",
   "metadata": {},
   "source": [
    "### Selecting the number of components"
   ]
  },
  {
   "cell_type": "code",
   "execution_count": 22,
   "id": "7a6a2c8e-180e-4ea2-aea2-839706435e6a",
   "metadata": {},
   "outputs": [],
   "source": [
    "rss = []\n",
    "n_range = range(1,11)\n",
    "for n_components in n_range:\n",
    "    nmf = nimfa.Snmf(nn_data, seed=\"nndsvd\", rank=n_components, max_iter=12, version='r',\n",
    "                      eta=1., beta=1e-4, i_conv=10, w_min_change=0)\n",
    "    nmf_fit = nmf()\n",
    "    rss.append(nmf_fit.fit.rss())"
   ]
  },
  {
   "cell_type": "code",
   "execution_count": 23,
   "id": "b5b616e3-248c-4862-bcf2-299a1d266052",
   "metadata": {},
   "outputs": [
    {
     "data": {
      "image/png": "[encoded data removed]",
      "text/plain": [
       "<Figure size 640x480 with 1 Axes>"
      ]
     },
     "metadata": {},
     "output_type": "display_data"
    }
   ],
   "source": [
    "# Plot the reconstruction error as a function of the number of components\n",
    "plt.plot(n_range, rss); \n",
    "plt.xlabel('Number of components')\n",
    "plt.ylabel('Residual Sum of Squares'); "
   ]
  },
  {
   "cell_type": "markdown",
   "id": "6b1f3edc-12b7-4aa0-b05f-6b02d9de59e4",
   "metadata": {},
   "source": [
    "_Q. What can you conclude from this plot?_"
   ]
  },
  {
   "cell_type": "markdown",
   "id": "5da0e024-7073-4855-9f1f-95269aa993ba",
   "metadata": {},
   "source": [
    "### Applying NMF with the selected number of components"
   ]
  },
  {
   "cell_type": "code",
   "execution_count": 24,
   "id": "570b6779-2ff0-4b31-978c-71960926376f",
   "metadata": {},
   "outputs": [],
   "source": [
    "n_components = 6\n",
    "snmf = nimfa.Snmf(nn_data, seed=\"nndsvd\", rank=n_components, max_iter=12, version='l',\n",
    "                      eta=1., beta=1e-4, i_conv=10, w_min_change=0)\n",
    "snmf_fit = snmf()"
   ]
  },
  {
   "cell_type": "code",
   "execution_count": 25,
   "id": "7280588b-24ec-4464-8097-9016a480e685",
   "metadata": {},
   "outputs": [],
   "source": [
    "# Extract the response profile matrix and the component weight matrix \n",
    "response_profile = np.asarray(snmf_fit.basis().T)\n",
    "voxel_weight = np.asarray(snmf_fit.coef())"
   ]
  },
  {
   "cell_type": "code",
   "execution_count": 26,
   "id": "39494fea-4c96-4003-b638-34c09ad6090c",
   "metadata": {},
   "outputs": [
    {
     "data": {
      "text/plain": [
       "((6, 11065), (6, 165))"
      ]
     },
     "execution_count": 26,
     "metadata": {},
     "output_type": "execute_result"
    }
   ],
   "source": [
    "# Check the shape of the extracted low-dimensional matrices \n",
    "voxel_weight.shape, response_profile.shape"
   ]
  },
  {
   "cell_type": "markdown",
   "id": "659eb7a2-ed8a-4d63-a682-640d7b7880e0",
   "metadata": {},
   "source": [
    "### Interpreting the response profiles of components "
   ]
  },
  {
   "cell_type": "markdown",
   "id": "dd563ef8-ad3f-47d6-bf76-f7972467c696",
   "metadata": {},
   "source": [
    "<div class=\"alert alert-success\"> <b>*** Tasks *** </b><br>\n",
    "    <b>a. Visualize the response profile of all components using the function below and try to infer if there are indeed music and speech-selective neural populations  </b><br>\n",
    "    <b>b. Play the top 10 sounds for the music and speech-selective components </b> \n",
    "</div>"
   ]
  },
  {
   "cell_type": "code",
   "execution_count": 30,
   "id": "4033f352-92f1-4506-b3c6-6a0527643fb6",
   "metadata": {},
   "outputs": [
    {
     "data": {
      "image/png": "[encoded data removed]",
      "text/plain": [
       "<Figure size 700x300 with 1 Axes>"
      ]
     },
     "metadata": {},
     "output_type": "display_data"
    }
   ],
   "source": [
    "def visualize_component_response(idx = 0):\n",
    "    \n",
    "    sorted_categories = categories[np.argsort(response_profile[idx])][::-1]\n",
    "    sorted_response = np.sort(response_profile[idx])[::-1]\n",
    "    \n",
    "    sns.set(font_scale=1, style = 'white') \n",
    "    \n",
    "    colors = ['khaki', 'darkkhaki', 'indianred', 'orchid', 'brown', 'blue', 'slateblue', 'peru', 'seagreen', 'lightgray', 'mediumseagreen']\n",
    "    \n",
    "    fig, ax = plt.subplots(figsize = (7,3))\n",
    "    for loc, cat_name in enumerate(np.unique(sorted_categories)): \n",
    "        markers, stems, base = plt.stem(np.where(sorted_categories == cat_name)[0], sorted_response[sorted_categories==cat_name], colors[loc], basefmt=\" \", label=cat_name, markerfmt=\" \")\n",
    "        plt.setp(stems, 'linewidth', 1.4)\n",
    "        \n",
    "    plt.legend(ncol = 3, fontsize = 10)\n",
    "    plt.xlabel('Sound number (sorted by response)', fontweight = 'bold', fontsize = 12);\n",
    "    plt.ylabel('Component response', fontweight = 'bold', fontsize = 12)\n",
    "    plt.title('Response profile of component # %d' % idx, fontweight = 'bold', fontsize = 12); \n",
    "\n",
    "visualize_component_response(idx = 0)"
   ]
  },
  {
   "cell_type": "code",
   "execution_count": 32,
   "id": "4f0e986f-5a17-47f4-989d-bea0fb4cdcba",
   "metadata": {},
   "outputs": [],
   "source": [
    "# Play top 10 sounds of the music and speech-speech selective components \n",
    "for i in range(10):\n",
    "    playsound(stim_paths[np.argsort(response_profile[2])][::-1][i])"
   ]
  },
  {
   "cell_type": "code",
   "execution_count": 33,
   "id": "073c1e11-fbbb-4b47-a930-075c670d6f79",
   "metadata": {},
   "outputs": [
    {
     "data": {
      "text/plain": [
       "'/Users/meenakshi/Desktop/nmf_tutorial'"
      ]
     },
     "execution_count": 33,
     "metadata": {},
     "output_type": "execute_result"
    }
   ],
   "source": [
    "import os\n",
    "os.getcwd()"
   ]
  },
  {
   "cell_type": "markdown",
   "id": "254bb8b2-f1f1-4920-ae07-b667663ae4b7",
   "metadata": {},
   "source": [
    "#### Acknowledgements \n",
    "This dataset of fMRI responses to auditory sounds was collected by Sam Norman-Haignere and released as part of the following publication: \n",
    "Norman-Haignere, Sam, Nancy G. Kanwisher, and Josh H. McDermott. \"Distinct cortical pathways for music and speech revealed by hypothesis-free voxel decomposition.\" Neuron \n",
    "                                                                          "
   ]
  }
 ],
 "metadata": {
  "kernelspec": {
   "display_name": "Python 3 (ipykernel)",
   "language": "python",
   "name": "python3"
  },
  "language_info": {
   "codemirror_mode": {
    "name": "ipython",
    "version": 3
   },
   "file_extension": ".py",
   "mimetype": "text/x-python",
   "name": "python",
   "nbconvert_exporter": "python",
   "pygments_lexer": "ipython3",
   "version": "3.11.7"
  }
 },
 "nbformat": 4,
 "nbformat_minor": 5
}
