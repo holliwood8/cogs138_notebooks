{
 "cells": [
  {
   "cell_type": "markdown",
   "metadata": {
    "execution": {},
    "id": "wyuSI5ecIZFe"
   },
   "source": [
    "## Loading of Stringer orientations data\n",
    "\n",
    "includes some visualizations"
   ]
  },
  {
   "cell_type": "code",
   "execution_count": 1,
   "metadata": {
    "id": "tmxXEY_eIZFh"
   },
   "outputs": [],
   "source": [
    "import numpy as np\n",
    "import matplotlib.pyplot as plt"
   ]
  },
  {
   "cell_type": "code",
   "execution_count": null,
   "metadata": {},
   "outputs": [],
   "source": [
    "#@title Data retrieval\n",
    "import os, requests\n",
    "\n",
    "fname = \"data.zip\"\n",
    "url = \"https://osf.io/kftxc/download\"\n",
    "\n",
    "if not os.path.isfile(fname):\n",
    "  try:\n",
    "    r = requests.get(url)\n",
    "  except requests.ConnectionError:\n",
    "    print(\"!!! Failed to download data !!!\")\n",
    "  else:\n",
    "    if r.status_code != requests.codes.ok:\n",
    "      print(\"!!! Failed to download data !!!\")\n",
    "    else:\n",
    "      with open(fname, \"wb\") as fid:\n",
    "        fid.write(r.content)\n",
    "!unzip data.zip"
   ]
  },
  {
   "cell_type": "code",
   "execution_count": 2,
   "metadata": {
    "cellView": "form",
    "id": "uhmWWOvnIZFi"
   },
   "outputs": [],
   "source": [
    "# @title Figure settings\n",
    "from matplotlib import rcParams\n",
    "\n",
    "rcParams['figure.figsize'] = [20, 4]\n",
    "rcParams['font.size'] = 15\n",
    "rcParams['axes.spines.top'] = False\n",
    "rcParams['axes.spines.right'] = False\n",
    "rcParams['figure.autolayout'] = True"
   ]
  },
  {
   "cell_type": "code",
   "execution_count": 3,
   "metadata": {
    "cellView": "form",
    "id": "h5gtk7g2IZFi",
    "outputId": "c58da714-dbd0-4d35-bd01-e6437a39a250"
   },
   "outputs": [
    {
     "name": "stdout",
     "output_type": "stream",
     "text": [
      "dict_keys(['sresp', 'istim', 'stat', 'run', 'info', 'xyz'])\n"
     ]
    }
   ],
   "source": [
    "# @title Data loading\n",
    "\n",
    "dat = np.load('data/calcium_imaging_stringer_orientations.npy', allow_pickle=True).item()\n",
    "print(dat.keys())"
   ]
  },
  {
   "cell_type": "markdown",
   "metadata": {
    "execution": {},
    "id": "xM6KnAltIZFi"
   },
   "source": [
    "dat has fields:\n",
    "* `dat['sresp']`: neurons by stimuli, a.k.a. the neural response data (23589 by 4598)\n",
    "* `dat['xyz']`: three-dimensional position of each neuron in the brain.\n",
    "* `dat['run']`: 1 by stimuli, a.k.a. the running speed of the animal in a.u.\n",
    "* `dat['istim']`: 1 by stimuli, goes from 0 to 2*np.pi, the orientations shown on each trial\n",
    "* `dat['stat']`: 1 by neurons, some statistics for each neuron, see Suite2p for full documentation."
   ]
  },
  {
   "cell_type": "markdown",
   "metadata": {},
   "source": [
    "You can plot the 3D positions of all neurons using the following code \n",
    "```python\n",
    "from mpl_toolkits.mplot3d import Axes3D\n",
    "from matplotlib import cm\n",
    "\n",
    "x, y, z = dat['xyz']\n",
    "\n",
    "zunq, iunq = np.unique(z, return_inverse=True)\n",
    "xc = np.linspace(0.0, 1.0, len(zunq))\n",
    "cmap = cm.get_cmap('jet')(xc)\n",
    "\n",
    "fig = plt.figure(figsize=(6, 6))\n",
    "ax = fig.add_subplot(111, projection='3d')\n",
    "ax.scatter(x[::-1], y[::-1], z[::-1], 'o', s=4, c=cmap[iunq])\n",
    "ax.set(xlabel='horizontal(um)', ylabel='vertical(um)', zlabel='depth (um)')\n",
    "plt.show()\n",
    "```"
   ]
  },
  {
   "cell_type": "code",
   "execution_count": null,
   "metadata": {},
   "outputs": [],
   "source": []
  },
  {
   "cell_type": "markdown",
   "metadata": {
    "cellView": "form",
    "id": "IjvRvVoaIZFj",
    "outputId": "b7a356b7-7128-4671-d8f9-99edc6969209"
   },
   "source": [
    "You can also visualize basic data properties using plot, hist and scatter\n",
    "```python\n",
    "ax = plt.subplot()\n",
    "plt.hist(dat['istim'])\n",
    "ax.set(xlabel='orientations', ylabel='# trials')\n",
    "\n",
    "ax = plt.subplot()\n",
    "plt.scatter(dat['istim'], dat['sresp'][1000], s=1)\n",
    "ax.set(xlabel='orientation', ylabel='neural response')\n",
    "\n",
    "ax = plt.subplot()\n",
    "plt.plot(dat['run'][:1000])\n",
    "ax.set(xlabel='timepoints', ylabel='running')\n",
    "\n",
    "ax = plt.subplot()\n",
    "plt.scatter(dat['run'], dat['sresp'][20998], s=1)\n",
    "ax.set(xlabel='running', ylabel='neural response')\n",
    "\n",
    "plt.show()\n",
    "```"
   ]
  },
  {
   "cell_type": "code",
   "execution_count": null,
   "metadata": {
    "cellView": "form",
    "id": "4KwxiimwIZFj",
    "outputId": "f4a6d87c-57a9-41a3-dac0-dd88d8826618"
   },
   "outputs": [],
   "source": []
  },
  {
   "cell_type": "markdown",
   "metadata": {},
   "source": [
    "```python \n",
    "ax = plt.subplot()\n",
    "plt.hist(dat['istim'])\n",
    "plt.xticks([0, np.pi, 2*np.pi])\n",
    "ax.set_xticklabels([0, r'$\\pi$', r'$2\\pi$'])\n",
    "ax.set(xlabel='orientations', ylabel='# trials')\n",
    "```"
   ]
  },
  {
   "cell_type": "code",
   "execution_count": null,
   "metadata": {},
   "outputs": [],
   "source": []
  },
  {
   "cell_type": "markdown",
   "metadata": {},
   "source": [
    "---\n",
    "This data is used with permission from the Neuromatch Academy Stringer dataset collection"
   ]
  }
 ],
 "metadata": {
  "colab": {
   "name": "load_stringer_orientations",
   "provenance": [],
   "toc_visible": true
  },
  "kernel": {
   "display_name": "Python 3",
   "language": "python",
   "name": "python3"
  },
  "kernelspec": {
   "display_name": "Python 3 (ipykernel)",
   "language": "python",
   "name": "python3"
  },
  "language_info": {
   "codemirror_mode": {
    "name": "ipython",
    "version": 3
   },
   "file_extension": ".py",
   "mimetype": "text/x-python",
   "name": "python",
   "nbconvert_exporter": "python",
   "pygments_lexer": "ipython3",
   "version": "3.11.7"
  }
 },
 "nbformat": 4,
 "nbformat_minor": 4
}
