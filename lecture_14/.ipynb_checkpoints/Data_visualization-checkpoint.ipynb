{
 "cells": [
  {
   "cell_type": "code",
   "execution_count": 2,
   "id": "f866a4b8-a385-4000-bbe9-42a307931064",
   "metadata": {},
   "outputs": [],
   "source": [
    "import numpy as np\n",
    "import matplotlib.pyplot as plt\n",
    "import seaborn as sns\n",
    "import pandas as pd"
   ]
  },
  {
   "cell_type": "code",
   "execution_count": 3,
   "id": "f1dec683-0381-42c9-9ed2-906f851718ec",
   "metadata": {},
   "outputs": [],
   "source": [
    "from matplotlib import rcParams\n",
    "rcParams['figure.figsize'] = [6,6]\n",
    "rcParams['font.size'] = 15\n",
    "rcParams['axes.spines.top'] = False\n",
    "rcParams['axes.spines.right'] = False\n",
    "rcParams['figure.autolayout'] = True"
   ]
  },
  {
   "cell_type": "markdown",
   "id": "e3b0e26c-dc69-4482-95e6-79b5074636d2",
   "metadata": {},
   "source": [
    "### Data retrieval"
   ]
  },
  {
   "cell_type": "code",
   "execution_count": 4,
   "id": "fe39d39c-f627-421e-afe6-097aaa77fddd",
   "metadata": {},
   "outputs": [
    {
     "name": "stdout",
     "output_type": "stream",
     "text": [
      "Archive:  data.zip\n",
      "   creating: data/\n",
      "  inflating: data/steinmetz_single_session.npy  \n",
      "  inflating: __MACOSX/data/._steinmetz_single_session.npy  \n",
      "  inflating: data/hcp_motor_task_fMRI.npy  \n",
      "  inflating: __MACOSX/data/._hcp_motor_task_fMRI.npy  \n",
      "  inflating: data/steinmetz_spike_times.npy  \n",
      "  inflating: __MACOSX/data/._steinmetz_spike_times.npy  \n"
     ]
    }
   ],
   "source": [
    "import os, requests\n",
    "fname = \"data.zip\"\n",
    "url = \"https://osf.io/rc3zw/download\"\n",
    "\n",
    "if not os.path.isfile(fname):\n",
    "  try:\n",
    "    r = requests.get(url)\n",
    "  except requests.ConnectionError:\n",
    "    print(\"!!! Failed to download data !!!\")\n",
    "  else:\n",
    "    if r.status_code != requests.codes.ok:\n",
    "      print(\"!!! Failed to download data !!!\")\n",
    "    else:\n",
    "      with open(fname, \"wb\") as fid:\n",
    "        fid.write(r.content)\n",
    "!unzip data.zip"
   ]
  },
  {
   "cell_type": "code",
   "execution_count": 5,
   "id": "341e8c17-9afc-4945-b22a-511837d42077",
   "metadata": {},
   "outputs": [],
   "source": [
    "spike_times = np.load('data/steinmetz_spike_times.npy', allow_pickle = True)"
   ]
  },
  {
   "cell_type": "markdown",
   "id": "e246a359-a43a-49ec-97e4-6f6c12973236",
   "metadata": {},
   "source": [
    "_A single recording session of spike times and neuron assignments (734 neurons) was loaded and assigned to spike_times in the preceding setup_"
   ]
  },
  {
   "cell_type": "markdown",
   "id": "a60e76a8-4593-402e-a248-b0d1be6f5f10",
   "metadata": {},
   "source": [
    "# Section 1: Learning about different visualization techniques (histogram, density plot, line plot) using the Steinmetz dataset\n",
    "\n",
    "In the first part of this data visualization lesson, we will explore the structure of a neuroscience dataset.\n",
    "\n",
    "We consider a subset of data from a study of [Steinmetz _et al._ (2019)](https://www.nature.com/articles/s41586-019-1787-x). In this study, Neuropixels probes were implanted in the brains of mice. Electrical potentials were measured by hundreds of electrodes along the length of each probe. Each electrode's measurements captured local variations in the electric field due to nearby spiking neurons. A spike sorting algorithm was used to infer spike times and cluster spikes according to common origin: a single cluster of sorted spikes is causally attributed to a single neuron.\n",
    "\n",
    "In particular, a single recording session of spike times and neuron assignments was loaded and assigned to `spike_times` in the preceding setup.\n",
    "\n",
    "Typically a dataset comes with some information about its structure. However, this information may be incomplete. You might also apply some transformations or \"pre-processing\" to create a working representation of the data of interest, which might go partly undocumented depending on the circumstances. In any case it is important to be able to use the available tools to investigate unfamiliar aspects of a data structure.\n",
    "\n",
    "Let's see what our data looks like..."
   ]
  },
  {
   "cell_type": "markdown",
   "id": "016caef6-a7f8-4268-a8a8-c5224276a50b",
   "metadata": {},
   "source": [
    "## Warming up with `spike_times`"
   ]
  },
  {
   "cell_type": "markdown",
   "id": "a1384f47-1e15-4690-b4cf-8e2e54ceec5e",
   "metadata": {},
   "source": [
    "What is the Python type of our variable?\n",
    "```python\n",
    "type(spike_times)\n",
    "```"
   ]
  },
  {
   "cell_type": "code",
   "execution_count": null,
   "id": "60bb21e5-4a31-4c15-a872-2d4bb7b5ea30",
   "metadata": {},
   "outputs": [],
   "source": []
  },
  {
   "cell_type": "markdown",
   "id": "87029876-c70b-461e-a52d-3242888346a8",
   "metadata": {},
   "source": [
    "You should see `numpy.ndarray`, which means that it's a normal NumPy array.\n",
    "\n",
    "If you see an error message, it probably means that you did not execute the set-up cells at the top of the notebook. So go ahead and make sure to do that.\n",
    "\n",
    "Once everything is running properly, we can ask the next question about the dataset: what's its shape?\n",
    "```python\n",
    "spike_times.shape\n",
    "```"
   ]
  },
  {
   "cell_type": "code",
   "execution_count": null,
   "id": "4c1f345b-d0f4-4a51-9675-f18b327ae734",
   "metadata": {},
   "outputs": [],
   "source": []
  },
  {
   "cell_type": "markdown",
   "id": "74a4ac24-5012-4e4d-ba9f-c19829f1d232",
   "metadata": {},
   "source": [
    "There are 734 entries in one dimension, and no other dimensions. What is the Python type of the first entry, and what is *its* shape?\n",
    "```python \n",
    "idx = 0\n",
    "print(\n",
    "  type(spike_times[idx]),\n",
    "  spike_times[idx].shape,\n",
    "  sep=\"\\n\",\n",
    ")\n",
    "```"
   ]
  },
  {
   "cell_type": "code",
   "execution_count": null,
   "id": "20d26faf-01f2-47be-8c80-56c604bd64ca",
   "metadata": {},
   "outputs": [],
   "source": []
  },
  {
   "cell_type": "markdown",
   "id": "2ab91b2a-c7ca-4ae2-b2c7-468c4601070e",
   "metadata": {},
   "source": [
    "It's also a NumPy array with a 1D shape! Why didn't this show up as a second dimension in the shape of `spike_times`? That is, why not `spike_times.shape == (734, 826)`?\n",
    "\n",
    "To investigate, let's check another entry.\n",
    "```python\n",
    "idx = 321\n",
    "print(\n",
    "  type(spike_times[idx]),\n",
    "  spike_times[idx].shape,\n",
    "  sep=\"\\n\",\n",
    ")\n",
    "```"
   ]
  },
  {
   "cell_type": "code",
   "execution_count": null,
   "id": "e89758fe-8d89-4fd7-a00b-affa7d901751",
   "metadata": {},
   "outputs": [],
   "source": []
  },
  {
   "cell_type": "markdown",
   "id": "094a2479-3393-4d9c-81a1-5b225d7aaab5",
   "metadata": {},
   "source": [
    "It's also a 1D NumPy array, but it has a different shape. Checking the NumPy types of the values in these arrays, and their first few elements, we see they are composed of floating point numbers (not another level of `np.ndarray`):\n",
    "```python\n",
    "i_neurons = [0, 321]\n",
    "i_print = slice(0, 5)\n",
    "\n",
    "for i in i_neurons:\n",
    "  print(\n",
    "    \"Neuron {}:\".format(i),\n",
    "    spike_times[i].dtype,\n",
    "    spike_times[i][i_print],\n",
    "    \"\\n\",\n",
    "    sep=\"\\n\"\n",
    "  )\n",
    "  ```"
   ]
  },
  {
   "cell_type": "code",
   "execution_count": null,
   "id": "3aefde24-5e31-4990-a6fc-ea9dab5409f4",
   "metadata": {},
   "outputs": [],
   "source": []
  },
  {
   "cell_type": "markdown",
   "id": "bcb93011-0beb-420b-a1b8-2e3ad80cb305",
   "metadata": {},
   "source": [
    "Note that this time we've checked the NumPy `dtype` rather than the Python variable type. These two arrays contain floating point numbers (\"floats\") with 32 bits of precision.\n",
    "\n",
    "The basic picture is coming together:\n",
    "- `spike_times` is 1D, its entries are NumPy arrays, and its length is the number of neurons (734): by indexing it, we select a subset of neurons.\n",
    "- An array in `spike_times` is also 1D and corresponds to a single neuron; its entries are floating point numbers, and its length is the number of spikes attributed to that neuron. By indexing it, we select a subset of spike times for that neuron.\n",
    "\n",
    "Visually, you can think of the data structure as looking something like this:\n",
    "\n",
    "```\n",
    "| . . . . . |\n",
    "| . . . . . . . . |\n",
    "| . . . |\n",
    "| . . . . . . . |\n",
    "```\n",
    "\n",
    "Before moving on, we'll calculate and store the number of neurons in the dataset and the number of spikes per neuron:\n",
    "```python\n",
    "n_neurons = len(spike_times)\n",
    "total_spikes_per_neuron = [len(spike_times_i) for spike_times_i in spike_times]\n",
    "\n",
    "print(f\"Number of neurons: {n_neurons}\")\n",
    "print(f\"Number of spikes for first five neurons: {total_spikes_per_neuron[:5]}\")\n",
    "```"
   ]
  },
  {
   "cell_type": "code",
   "execution_count": null,
   "id": "1a24f4bd-6d18-48e9-8fab-2f75fbba3d2d",
   "metadata": {},
   "outputs": [],
   "source": []
  },
  {
   "cell_type": "markdown",
   "id": "710a9b81-5555-4a68-bcc2-8bca068259a6",
   "metadata": {},
   "source": [
    "## Getting warmer: counting and plotting total spike counts\n",
    "\n",
    "As we've seen, the number of spikes over the entire recording is variable between neurons. More generally, some neurons tend to spike more than others in a given period. Let's explore what the distribution of spiking looks like across all the neurons in the dataset."
   ]
  },
  {
   "cell_type": "markdown",
   "id": "5b48ed8a-cccf-401c-963e-a9d7134ab9ea",
   "metadata": {},
   "source": [
    "Are most neurons \"loud\" or \"quiet\", compared to the average? To see, we'll define bins of constant width in terms of total spikes and count the neurons that fall in each bin. This is known as a \"histogram\".\n",
    "\n",
    "## Visualization Type 1: Histogram\n",
    "* Histograms are used to provide information about a single set of numbers \n",
    "\n",
    "* It is used to display the frequency of data points within specific intervals, which are also known as bins\n",
    "\n",
    "* It consists of different bars, where the height of each bar indicates how many data points fall within that specific range of values, so within each bin\n",
    "\n",
    "* They are particularly useful for visualizing the range of values of a variable and the shape of the distribution"
   ]
  },
  {
   "cell_type": "markdown",
   "id": "f0304faf-3cd6-4b70-85a8-d6c155366dcf",
   "metadata": {},
   "source": [
    "You can plot a histogram with the matplotlib function `plt.hist`. If you just need to compute it, you can use the numpy function `np.histogram` instead.\n",
    "```python\n",
    "plt.hist(total_spikes_per_neuron, bins=50, histtype=\"stepfilled\")\n",
    "plt.xlabel(\"Total spikes per neuron\")\n",
    "plt.ylabel(\"Number of neurons\");\n",
    "```"
   ]
  },
  {
   "cell_type": "code",
   "execution_count": null,
   "id": "8dffc9f8-6b00-4d24-a561-eda245abbedd",
   "metadata": {},
   "outputs": [],
   "source": []
  },
  {
   "cell_type": "markdown",
   "id": "46493f4d-cc1a-46cf-82bb-c5208978322f",
   "metadata": {},
   "source": [
    "Now try adding the average spike count to the histogram plot"
   ]
  },
  {
   "cell_type": "code",
   "execution_count": null,
   "id": "67b6776c-b53a-47df-a88a-4dfabeb63eb4",
   "metadata": {},
   "outputs": [],
   "source": []
  },
  {
   "attachments": {},
   "cell_type": "markdown",
   "id": "1a06fd28-e755-4005-974c-07a137937dab",
   "metadata": {},
   "source": [
    "## Visualization Type 2: Density Plot \n",
    "\n",
    "Another similar plot that we could use to visualize the distribution of a dataset is the density plot. \n",
    "So in the histogram, we binned the values within a certain range, so we created these intervals and then we computed the number of data points that lie within each interval. \n",
    "In the density plot, we calculate a smooth approximation to the data distribution without predefining any bins\n",
    "\n",
    "* In density plots, instead of the frequency, you can interpret the y-axis as reflecting the probability of variables values falling within a small interval around that point\n",
    "* Density plots can also be helpful to identify extreme values"
   ]
  },
  {
   "cell_type": "markdown",
   "id": "3a5177c2-1a57-49e4-80e4-4ad473cf1356",
   "metadata": {},
   "source": [
    "```python \n",
    "import seaborn as sns\n",
    "sns.distplot(total_spikes_per_neuron, hist=False)\n",
    "```"
   ]
  },
  {
   "cell_type": "code",
   "execution_count": null,
   "id": "cefddaaa-51e7-413e-8035-012feaa368d8",
   "metadata": {},
   "outputs": [],
   "source": []
  },
  {
   "cell_type": "markdown",
   "id": "23105373-b2b3-4e63-91a4-a4378cfcc561",
   "metadata": {},
   "source": [
    "### Bonus: Can you think of other variables whose distributions could be interesting to explore with single-neuron data?"
   ]
  },
  {
   "cell_type": "markdown",
   "id": "e996bbd4-ece8-4231-9a05-dd2157d40a43",
   "metadata": {},
   "source": [
    "We know that there are physical constraints on neuron spiking. Spiking costs energy, which the neuron's cellular machinery can only obtain at a finite rate. Therefore neurons should have a refractory period: they can only fire as quickly as their metabolic processes can support, and there is a minimum delay between consecutive spikes of the same neuron.\n",
    "\n",
    "More generally, we can ask \"how long does a neuron wait to spike again?\" or \"what is the longest a neuron will wait?\" Can we transform spike times into something else, to address questions like these more directly?\n",
    "\n",
    "We can consider the inter-spike times (or interspike intervals: ISIs). These are simply the time differences between consecutive spikes of the same neuron.\n",
    "\n",
    "#### Exercise: Plot the distribution of ISIs for a single neuron\n",
    "\n",
    "*Exercise objective:* make a histogram, like we did for spike counts, to show the distribution of ISIs for one of the neurons in the dataset.\n",
    "\n",
    "Do this in three steps:\n",
    "\n",
    "1. Extract the spike times for one of the neurons (say neuron at index 283)\n",
    "2. Compute the ISIs (the amount of time between spikes, or equivalently, the difference between adjacent spike times)\n",
    "3. Plot a histogram with the array of individual ISIs\n"
   ]
  },
  {
   "cell_type": "code",
   "execution_count": null,
   "id": "c809dc14-adcd-4429-b587-b3f55e70e4c2",
   "metadata": {},
   "outputs": [],
   "source": []
  },
  {
   "cell_type": "markdown",
   "id": "8a491f08-adca-4420-8516-31ff2c68f7b5",
   "metadata": {},
   "source": [
    "## Visualization Type 3: Spike trains and raster plots "
   ]
  },
  {
   "cell_type": "markdown",
   "id": "f28e98b6-632f-4746-bc62-25c6411b11b0",
   "metadata": {},
   "source": [
    "Now we'll visualize trains of spikes. Because the recordings are long, we will first define a short time interval and restrict the visualization to only the spikes in this interval. We defined a helper function, `restrict_spike_times`, to do this for you. "
   ]
  },
  {
   "cell_type": "code",
   "execution_count": 50,
   "id": "35f52a45-5d37-4816-8829-88a5add49ca1",
   "metadata": {},
   "outputs": [],
   "source": [
    "def restrict_spike_times(spike_times, interval):\n",
    "  \"\"\"Given a spike_time dataset, restrict to spikes within given interval.\n",
    "\n",
    "  Args:\n",
    "    spike_times (sequence of np.ndarray): List or array of arrays,\n",
    "      each inner array has spike times for a single neuron.\n",
    "    interval (tuple): Min, max time values; keep min <= t < max.\n",
    "\n",
    "  Returns:\n",
    "    np.ndarray: like `spike_times`, but only within `interval`\n",
    "  \"\"\"\n",
    "  interval_spike_times = []\n",
    "  for spikes in spike_times:\n",
    "    interval_mask = (spikes >= interval[0]) & (spikes < interval[1])\n",
    "    interval_spike_times.append(spikes[interval_mask])\n",
    "  return np.array(interval_spike_times, object)"
   ]
  },
  {
   "cell_type": "markdown",
   "id": "73830c49-264f-45f8-b56a-18e8d42a0ce1",
   "metadata": {},
   "source": [
    "```python \n",
    "t_interval = (5, 15)  # units are seconds after start of recording\n",
    "interval_spike_times = restrict_spike_times(spike_times, t_interval)\n",
    "```"
   ]
  },
  {
   "cell_type": "code",
   "execution_count": null,
   "id": "cd31faa6-2796-452a-976a-29032eed4c68",
   "metadata": {},
   "outputs": [],
   "source": []
  },
  {
   "cell_type": "markdown",
   "id": "60910a05-2bdd-453e-a4c4-7177198c272a",
   "metadata": {},
   "source": [
    "Now that we have a smaller subset, we're ready to plot the spikes, using the matplotlib `plt.eventplot` function. Let's look at a single neuron first:\n",
    "```python\n",
    "neuron_idx = 1\n",
    "plt.eventplot(interval_spike_times[neuron_idx], color=\".2\")\n",
    "plt.xlabel(\"Time (s)\")\n",
    "plt.yticks([]);\n",
    "```"
   ]
  },
  {
   "cell_type": "code",
   "execution_count": null,
   "id": "606a9226-f4ab-4060-96be-a3892d3961f2",
   "metadata": {},
   "outputs": [],
   "source": []
  },
  {
   "cell_type": "markdown",
   "id": "cb1bd268-e25a-4367-8f64-165eeccf39c8",
   "metadata": {},
   "source": [
    "We can also plot multiple neurons. Here are three:\n",
    "```python\n",
    "neuron_idx = [1, 11, 51]\n",
    "plt.eventplot(interval_spike_times[neuron_idx], color=\".2\")\n",
    "plt.xlabel(\"Time (s)\")\n",
    "plt.yticks([]);\n",
    "```"
   ]
  },
  {
   "cell_type": "code",
   "execution_count": null,
   "id": "55b9052c-871a-481f-81e1-618b525ad28c",
   "metadata": {},
   "outputs": [],
   "source": []
  },
  {
   "cell_type": "markdown",
   "id": "f5b526ec-1577-4a7a-882a-1326e2bfeed9",
   "metadata": {},
   "source": [
    "This makes a \"raster\" plot, where the spikes from each neuron appear in a different row.\n",
    "\n",
    "Plotting a large number of neurons can give you a sense for the characteristics in the population. Let's show every 5th neuron that was recorded:\n",
    "\n",
    "```python \n",
    "neuron_idx = np.arange(0, len(spike_times), 5)\n",
    "plt.eventplot(interval_spike_times[neuron_idx], color=\".2\")\n",
    "plt.xlabel(\"Time (s)\")\n",
    "plt.yticks([]);\n",
    "```"
   ]
  },
  {
   "cell_type": "code",
   "execution_count": null,
   "id": "51dedf92-d4d6-4dfd-85f1-a0eda71cb9cf",
   "metadata": {},
   "outputs": [],
   "source": []
  },
  {
   "cell_type": "markdown",
   "id": "fbf66277-416f-4d63-bc14-b59d14992277",
   "metadata": {},
   "source": [
    "*Question*: How does the information in this plot relate to the histogram of total spike counts that you saw above?"
   ]
  },
  {
   "cell_type": "markdown",
   "id": "6107f7bf-2051-4668-ac72-7fdec2686af9",
   "metadata": {},
   "source": [
    "## Visualization Type 4: Line plot\n",
    "\n",
    "* Display data points along a continouous line \n",
    "* Most commonly, used to visualize trends over time\n",
    "  \n"
   ]
  },
  {
   "cell_type": "markdown",
   "id": "ad2d94ae-3942-44c6-bbe0-eab81930a10b",
   "metadata": {},
   "source": [
    "We'll again work with the Neuropixels data as described above, except here the data is organized according to time bins for ease of visualization \n",
    "\n",
    "   \n",
    "```python \n",
    "dat = np.load('data/steinmetz_single_session.npy', allow_pickle = True).item()\n",
    "```\n",
    "\n",
    "* `dat['spks']`: neurons by trials by time bins.    \n",
    "* `dat['brain_area']`: brain area for each neuron recorded.\n",
    "* `dat['bin_size']`: Bin size in s.\n",
    "* `dat['time_onset']`: time of the stimulus onset. \n"
   ]
  },
  {
   "cell_type": "code",
   "execution_count": null,
   "id": "143f48e5-0396-4c48-b36d-9a332bf1579a",
   "metadata": {},
   "outputs": [],
   "source": []
  },
  {
   "cell_type": "markdown",
   "id": "1e8d8104-521d-456c-9275-59bfb85ef1a1",
   "metadata": {},
   "source": [
    "We can first do a basic line plot of population average\n",
    "```python \n",
    "dt = dat['bin_size']  # binning at 10 ms\n",
    "NT = dat['spks'].shape[-1]\n",
    "plt.plot(dt * np.arange(NT), 1/dt * dat['spks'].mean(axis=(0, 1)))\n",
    "plt.xlabel('time (sec)') \n",
    "plt.ylabel('firing rate (Hz)')\n",
    "\n",
    "```"
   ]
  },
  {
   "cell_type": "code",
   "execution_count": null,
   "id": "802f673e-071d-4ce0-bea5-b557148615dc",
   "metadata": {},
   "outputs": [],
   "source": []
  },
  {
   "cell_type": "markdown",
   "id": "ff62a579-2688-46c9-a4ad-2721def44893",
   "metadata": {},
   "source": [
    "* If you’re plotting two sets of values at the same time, this would become a two series lineplot \n",
    "* If you have multiple sets of values, that would be a multiple series lineplot."
   ]
  },
  {
   "cell_type": "markdown",
   "id": "d65d34f5-9b74-4286-9e44-1cb0f48f18d5",
   "metadata": {},
   "source": [
    "In this example, we might want to visualize the average firing rates across neurons in different brain regions separately. \n",
    "\n",
    "Let's group different brain areas into broader brain regions\n",
    "```python\n",
    "brain_groups = [[\"VISa\", \"VISam\", \"VISl\", \"VISp\", \"VISpm\", \"VISrl\"],  # visual cortex\n",
    "                [\"CL\", \"LD\", \"LGd\", \"LH\", \"LP\", \"MD\", \"MG\", \"PO\", \"POL\", \"PT\", \"RT\", \"SPF\", \"TH\", \"VAL\", \"VPL\", \"VPM\"], # thalamus\n",
    "                [\"CA\", \"CA1\", \"CA2\", \"CA3\", \"DG\", \"SUB\", \"POST\"],  # hippocampal\n",
    "                [\"ACA\", \"AUD\", \"COA\", \"DP\", \"ILA\", \"MOp\", \"MOs\", \"OLF\", \"ORB\", \"ORBm\", \"PIR\", \"PL\", \"SSp\", \"SSs\", \"RSP\",\"TT\"],  # non-visual cortex\n",
    "                [\"APN\", \"IC\", \"MB\", \"MRN\", \"NB\", \"PAG\", \"RN\", \"SCs\", \"SCm\", \"SCig\", \"SCsg\", \"ZI\"],  # midbrain\n",
    "                [\"ACB\", \"CP\", \"GPe\", \"LS\", \"LSc\", \"LSr\", \"MS\", \"OT\", \"SNr\", \"SI\"],  # basal ganglia\n",
    "                [\"BLA\", \"BMA\", \"EP\", \"EPd\", \"MEA\"]  # cortical subplate\n",
    "                ]\n",
    "```"
   ]
  },
  {
   "cell_type": "markdown",
   "id": "9fdc55ce-3712-43b4-aa53-73603c74a249",
   "metadata": {},
   "source": [
    "Now we can plot the average firing rates for different brain areas separately"
   ]
  },
  {
   "cell_type": "code",
   "execution_count": null,
   "id": "69c4d156-f43b-4d9d-89c9-437f46e1931f",
   "metadata": {},
   "outputs": [],
   "source": []
  },
  {
   "cell_type": "markdown",
   "id": "86dffd2f-a0e4-43f4-9fa5-42c900eb5d5c",
   "metadata": {},
   "source": [
    "When you are using a lineplot, you should make sure that the categories you have on the x axes are not independent. You cannot use a lineplot to display trends over arbitrary categories that are unordered. Lets say your categories were different neurons on the x-axis, in this case a lineplot would not make sense because these categories are all unordered. "
   ]
  },
  {
   "cell_type": "markdown",
   "id": "f2cd53d6-ee8e-4017-8df8-edeab3df97c3",
   "metadata": {},
   "source": [
    "# Section 2: Learning about other visualization techniques (scatter plot, barplot, boxplot) using the HCP task-fMRI dataset "
   ]
  },
  {
   "cell_type": "markdown",
   "id": "138567c6-f3bc-4768-9a07-30a125278da5",
   "metadata": {},
   "source": [
    "The HCP dataset comprises task-based fMRI from a large sample of human subjects. We will use the NMA-curated version of the dataset that includes time series data that has been preprocessed and spatially-downsampled by aggregating within 360 regions of interest.\n",
    "\n",
    "In order to use this dataset, please electronically sign the HCP data use terms at [ConnectomeDB](https://db.humanconnectome.org). Instructions for this are on pp. 24-25 of the [HCP Reference Manual](https://www.humanconnectome.org/storage/app/media/documentation/s1200/HCP_S1200_Release_Reference_Manual.pdf).\n"
   ]
  },
  {
   "cell_type": "markdown",
   "id": "5f769118-bd18-4767-bd09-9314080d4f63",
   "metadata": {},
   "source": [
    "```python\n",
    "data = np.load('data/hcp_motor_task_fMRI.npy', allow_pickle = True).item()\n",
    "```"
   ]
  },
  {
   "cell_type": "code",
   "execution_count": null,
   "id": "fcf20bd0-9f0b-42da-b7ec-7f083da9b2ef",
   "metadata": {},
   "outputs": [],
   "source": []
  },
  {
   "cell_type": "markdown",
   "id": "0b8b444c-5a94-42e7-88a6-b4f18214878c",
   "metadata": {},
   "source": [
    "This task was adapted from the one developed by Buckner and colleagues (Buckner et al.\n",
    "2011; Yeo et al. 2011). \n",
    "\n",
    "Participants are presented with visual cues that ask them to either tap\n",
    "their left or right fingers, or squeeze their left or right toes, or move their tongue to map motor\n",
    "areas. Each block of a movement type lasted 12 seconds (10 movements), and is preceded by\n",
    "a 3 second cue. In each of the two runs, there are 13 blocks, with 2 of tongue movements, 4 of\n",
    "hand movements (2 right and 2 left), and 4 of foot movements (2 right and 2 left). In addition,\n",
    "there are 3 15-second fixation blocks per run. This task contains the following events, each of\n",
    "which is computed against the fixation baseline."
   ]
  },
  {
   "cell_type": "markdown",
   "id": "14b2baf9-c6ab-4cc8-8885-a8df9150fb5e",
   "metadata": {},
   "source": [
    "## Warming up with `data`"
   ]
  },
  {
   "cell_type": "markdown",
   "id": "ac9438a4-eb73-41b9-bd92-952c0f969d2e",
   "metadata": {},
   "source": [
    "What is the Python type of our variable?\n",
    "```python\n",
    "type(data)\n",
    "```"
   ]
  },
  {
   "cell_type": "code",
   "execution_count": null,
   "id": "d7e3fde5-25db-46b0-96c2-9af1c4831e03",
   "metadata": {},
   "outputs": [],
   "source": []
  },
  {
   "cell_type": "markdown",
   "id": "f9587431-9f9e-45ed-9382-feff95ea243e",
   "metadata": {},
   "source": [
    "Let's look at the keys in our dictionary "
   ]
  },
  {
   "cell_type": "code",
   "execution_count": null,
   "id": "d45bea0b-56eb-4921-bd1a-14eaf05b4b39",
   "metadata": {},
   "outputs": [],
   "source": []
  },
  {
   "cell_type": "markdown",
   "id": "eed8aac5-b74d-4da9-8e81-4901c2bd5e1d",
   "metadata": {},
   "source": [
    "What is the shape of the brain data? "
   ]
  },
  {
   "cell_type": "code",
   "execution_count": null,
   "id": "b5bac332-7f14-492d-b680-79b8c4c5afe2",
   "metadata": {},
   "outputs": [],
   "source": []
  },
  {
   "cell_type": "markdown",
   "id": "8dd4dc0a-b160-496e-b2b6-5f30e821a9c4",
   "metadata": {},
   "source": [
    "As you can see the time series data contains 284 time points in 360 regions of interest (ROIs)."
   ]
  },
  {
   "cell_type": "markdown",
   "id": "c2839066-f97b-48a9-9c37-c85a2f34a77f",
   "metadata": {},
   "source": [
    "Now let's look at `region_info` "
   ]
  },
  {
   "cell_type": "code",
   "execution_count": null,
   "id": "7b5c5aa1-5ce1-4884-8061-0f6a92523a57",
   "metadata": {},
   "outputs": [],
   "source": []
  },
  {
   "cell_type": "markdown",
   "id": "c946e8e6-96d9-4b89-81b6-285b04164cbd",
   "metadata": {},
   "source": [
    "`region_info` contains the region name and network assignment as well as the hemisphere for each parcel.\n",
    "\n",
    "Detailed information about the name used for each region is provided [in the Supplement](https://static-content.springer.com/esm/art%3A10.1038%2Fnature18933/MediaObjects/41586_2016_BFnature18933_MOESM330_ESM.pdf) to [Glasser et al. 2016](https://www.nature.com/articles/nature18933).\n",
    "\n",
    "Information about the network parcellation is provided in [Ji et al, 2019](https://www.ncbi.nlm.nih.gov/pmc/articles/PMC6289683/)"
   ]
  },
  {
   "cell_type": "markdown",
   "id": "77587ddc-ec49-4779-a01a-916d306497a5",
   "metadata": {},
   "source": [
    "Now in order to understand the brain activity data, we need to relate the time series to the experimental manipulation. This is described in `task_info`. \n",
    "\n",
    "\n",
    "Let's take a look!"
   ]
  },
  {
   "cell_type": "code",
   "execution_count": null,
   "id": "5bade894-5b07-469d-924c-8fb0d9ae3df9",
   "metadata": {},
   "outputs": [],
   "source": []
  },
  {
   "cell_type": "markdown",
   "id": "e94b1bb4-9143-4911-9678-1b36b9aec674",
   "metadata": {},
   "source": [
    "For the motor task, this dictionary contains a list of arrays corresponding to each of the conditions in the experiment: \n",
    "* 'lf': Left foot\n",
    "* 'rf': Right foot\n",
    "* 'lh': Left hand\n",
    "* 'rh': Right hand\n",
    "* 't': Tongue \n",
    "* 'cue'"
   ]
  },
  {
   "cell_type": "code",
   "execution_count": null,
   "id": "7f52c6be-d047-4839-82d8-2c4104ec61a1",
   "metadata": {},
   "outputs": [],
   "source": []
  },
  {
   "cell_type": "markdown",
   "id": "913e1c10-1971-464b-8ea6-8fcfd92deb07",
   "metadata": {},
   "source": [
    "The basic picture is coming together:\n",
    "- `brain_data` stores the activity in a NumPy array, its entries are NumPy arrays, and its length is the number of brain regions (360): by indexing it, we select a subset of regions.\n",
    "- `region_info` is a dictionary that provides information about each region of interest \n",
    "- `task_info` is a dictionary that provides information that can be used to relate brain activity data to experimental manipulations"
   ]
  },
  {
   "cell_type": "markdown",
   "id": "ae36d2e2-ad04-4af7-ae23-536e535fe2ba",
   "metadata": {},
   "source": [
    "Now that we understand the data, let's start to look at a few other visualization techniques! "
   ]
  },
  {
   "cell_type": "markdown",
   "id": "56750f14-924c-4f7d-b377-540a9ddfd4d3",
   "metadata": {},
   "source": [
    "## Visualization Type 5: Scatter plot\n",
    "Scatterplot visualizes two continuous variables against one another"
   ]
  },
  {
   "cell_type": "markdown",
   "id": "84e83b30-d95d-4bcb-9645-cb64bffb7ac9",
   "metadata": {},
   "source": [
    "As an example, let's say you are interested in visualizating the relationship between two numeric variables: \n",
    "brain activity in left hemisphere V1 and right hemisphere V1. \n",
    "\n",
    "You can do that using a scatter plot by explicitly calling pyplot's scatter() function\n",
    "```python\n",
    "plt.scatter()\n",
    "```"
   ]
  },
  {
   "cell_type": "code",
   "execution_count": null,
   "id": "211bf82e-2d02-4c1a-99a1-9f2301b1e14c",
   "metadata": {},
   "outputs": [],
   "source": []
  },
  {
   "cell_type": "markdown",
   "id": "ed4283a3-e9bd-4bf5-8abc-a48f57f986a0",
   "metadata": {},
   "source": [
    "## Visualization Type 5: Bar plot\n",
    "\n",
    "A barplot is used to compare the values for different categories or groups.\n",
    "\n",
    "Each bar typically represents a category, and the height or length of the bar corresponds to the frequency, proportion, or some other measure associated with that category."
   ]
  },
  {
   "cell_type": "markdown",
   "id": "926b083e-deea-46cd-9529-2b5231e356b1",
   "metadata": {},
   "source": [
    "As an example, let's visualize the mean activity within the left and right somatomotor regions for the left foot condition\n",
    "\n",
    "#### Exercise: \n",
    "Extract the mean activity within the left and right somatomotor regions for the left foot condition and store it in two variables `data_l` and `data_r' respectively. \n",
    "And then use the following code to compare values across groups using barplot\n",
    "\n",
    "```python\n",
    "f, ax = plt.subplots(figsize = (5,5))\n",
    "plt.bar(['Left', 'Right'], [data_l.mean(), data_r.mean()])\n",
    "plt.ylabel('Mean fMRI response')\n",
    "```"
   ]
  },
  {
   "cell_type": "code",
   "execution_count": null,
   "id": "985d4d7f-ef46-4a1a-8a00-9d6844d6aa67",
   "metadata": {},
   "outputs": [],
   "source": []
  },
  {
   "cell_type": "markdown",
   "id": "27152035-55c5-4ee6-8b73-f1b3cff8ef78",
   "metadata": {},
   "source": [
    "We can also add error bars to this bar plot"
   ]
  },
  {
   "cell_type": "code",
   "execution_count": null,
   "id": "ca6d9c3f-d544-43d7-b092-13b81789a66e",
   "metadata": {},
   "outputs": [],
   "source": []
  },
  {
   "cell_type": "markdown",
   "id": "f030197c-c77f-4fb8-a65d-ce27964579f8",
   "metadata": {},
   "source": [
    "A powerful tool for organising and plotting this data is the combination of pandas and seaborn. Below is an example where we use pandas to create a table for the activity data and we use seaborn to visualise it \n",
    "```python\n",
    "import seaborn as sns\n",
    "import pandas as pd\n",
    "df = pd.DataFrame({'activity' : [data_l.mean(), data_r.mean()],\n",
    "                   'hemi' : ['left', 'right']})\n",
    "\n",
    "f, ax = plt.subplots(figsize = (5, 5))\n",
    "sns.barplot(x='hemi', y ='activity', data=df, hue='hemi')\n",
    "\n",
    "```"
   ]
  },
  {
   "cell_type": "code",
   "execution_count": null,
   "id": "ab4e8116-eb2d-473e-8773-fe01cb5a18a4",
   "metadata": {},
   "outputs": [],
   "source": []
  },
  {
   "cell_type": "markdown",
   "id": "1a69df0b-fc1f-423c-acdc-23268b5df92a",
   "metadata": {},
   "source": [
    "You can also store individual valuues for each data point rather than taking the mean across all timepoints. This can allow you to plot errorbars as well. \n",
    "\n",
    "```python \n",
    "df = pd.DataFrame({'activity' : np.concatenate([data_l, data_r]),\n",
    "                   'hemi' : ['left']* len(data_l) + ['right']*len(data_r)})\n",
    "\n",
    "f, ax = plt.subplots(figsize = (5, 5))\n",
    "sns.barplot(x='hemi', y ='activity', data=df, hue='hemi')\n",
    "```"
   ]
  },
  {
   "cell_type": "code",
   "execution_count": null,
   "id": "3d7bd6ff-4e3d-4f81-a34c-7778bc1f3598",
   "metadata": {},
   "outputs": [],
   "source": []
  },
  {
   "cell_type": "markdown",
   "id": "c438c8e9-35ab-4ade-b509-b9dded056652",
   "metadata": {},
   "source": [
    "## Visualization Type 5.1: Grouped barplots \n",
    "Grouped bar plots are a type of bar graph that display multiple bars for each category or group, with each group consisting of bars representing different subcategories or conditions"
   ]
  },
  {
   "cell_type": "markdown",
   "id": "73df3e66-c8e8-4783-a066-c921081687de",
   "metadata": {},
   "source": [
    "#### Exercise: \n",
    "Plot a grouped bar chart showing the mean activity across the left and right somatomotor network for the two experimental conditions (left foot and right foot movements) respectively\n",
    "Here, each experimental manipulation reflects a 'group'. \n",
    "\n",
    "\n",
    "Do this in three steps:\n",
    "\n",
    "1. Create a pandas dataframe with 3 columns for `experiment`, `hemi`, `activity` respectively \n",
    "2. Store the mean activity within each network (left and right somatomor regions) for each experimental condition (lf and rf) in the dataframe\n",
    "3. Using seaborn, generate a barplot from this dataframe\n"
   ]
  },
  {
   "cell_type": "code",
   "execution_count": null,
   "id": "366ac77a-a341-4c87-a650-e201a947cff6",
   "metadata": {},
   "outputs": [],
   "source": []
  },
  {
   "cell_type": "markdown",
   "id": "86884d3c-ec00-42c8-852f-e21327f38a95",
   "metadata": {},
   "source": [
    "## Visualization Type 6: Box plot\n",
    "\n",
    "Box plots like bar charts in that they are also used to depict the summary of numerical or continuous variables across categories but they have this additional feature that they can also be used to visualize the variation in the values around the median.\n",
    "\n",
    "\n",
    "As an example, let's visualize the data from the 'rf' experiment condition above using a boxplot \n",
    "```python\n",
    "f, ax = plt.subplots(figsize = (5,5))\n",
    "sns.boxplot(x='hemi', y ='activity', data=df[df['experiment'] == 'rf'])\n",
    "```"
   ]
  },
  {
   "cell_type": "code",
   "execution_count": null,
   "id": "56511127-0637-407b-9fff-51952ece599d",
   "metadata": {},
   "outputs": [],
   "source": []
  },
  {
   "cell_type": "markdown",
   "id": "9b19269a-4253-4a14-8a7d-88638fb84756",
   "metadata": {},
   "source": [
    "Here is how to read a boxplot. \n",
    "* The line in the middle of the boxplot represent the median values of the variable for each category. \n",
    "* If you use libraries for making boxplot, they often also have the additional option for showing means in addition to medians in boxplots\n",
    "* The top and bottom values give you the typical range of values (max and min) for each category, excluding certain outliers. \n",
    "* Box lines indicate the first (lower) quartile and third (upper) quartile"
   ]
  }
 ],
 "metadata": {
  "kernelspec": {
   "display_name": "Python 3 (ipykernel)",
   "language": "python",
   "name": "python3"
  },
  "language_info": {
   "codemirror_mode": {
    "name": "ipython",
    "version": 3
   },
   "file_extension": ".py",
   "mimetype": "text/x-python",
   "name": "python",
   "nbconvert_exporter": "python",
   "pygments_lexer": "ipython3",
   "version": "3.11.7"
  }
 },
 "nbformat": 4,
 "nbformat_minor": 5
}
