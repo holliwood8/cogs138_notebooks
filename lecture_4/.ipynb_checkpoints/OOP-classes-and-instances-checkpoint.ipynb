{
 "cells": [
  {
   "cell_type": "markdown",
   "id": "da533f99-81eb-4ab4-81c8-75217d1874c2",
   "metadata": {},
   "source": [
    "# Object Oriented Programming\n",
    "# Classes and instances\n",
    "---\n",
    "\n",
    "\n",
    "## Questions\n",
    "- How to logically group our data and functions in a way that is easy to reuse and build upon \n",
    "\n",
    "## Learning Objectives\n",
    "- How to create and use classes in python \n",
    "- How object-oriented concepts are applied in python\n",
    "\n",
    "---"
   ]
  },
  {
   "cell_type": "markdown",
   "id": "078c253f-97c3-4060-ac61-6b76e0ee16b1",
   "metadata": {},
   "source": [
    "## Why use classes?"
   ]
  },
  {
   "cell_type": "markdown",
   "id": "967467fb-1fb2-4e73-a290-ba52861d9069",
   "metadata": {},
   "source": [
    "### Structuring data \n",
    "\n",
    "*   Say we had data about several human subjects:\n",
    "    height (cm), weight (lbs) <br>\n",
    "*   One way of storing that data is using data structures we are already familiar with\n",
    "```python\n",
    "data = [[170, 160], \n",
    "        [160, 140] ]\n",
    "```"
   ]
  },
  {
   "cell_type": "markdown",
   "id": "7e0feb4d-d105-4ccb-ac5b-46629a4153bc",
   "metadata": {},
   "source": [
    "* A better way might be to use dictionaries and attach more information about each subject and store this alongside the other variables"
   ]
  },
  {
   "cell_type": "markdown",
   "id": "e4734970-c909-4730-a25d-d453a52a0f71",
   "metadata": {},
   "source": [
    "```python\n",
    "data = [\n",
    "    {\n",
    "        'name': 'Bob',\n",
    "        'data': [170, 160],\n",
    "    },\n",
    "    {\n",
    "        'name': 'Alice',\n",
    "        'data': [160, 140],\n",
    "    },\n",
    "]\n",
    "```"
   ]
  },
  {
   "cell_type": "markdown",
   "id": "c99d7bb3-518a-4777-b0e5-139203bf7ad9",
   "metadata": {},
   "source": [
    "This is an example of structured data. But the above data structure may not be ideal for storing it\n",
    "* With our list of dictionaries we had in the example above, we have no real guarantee that each dictionary has the same structure, e.g. the same keys (name and data) unless we check it manually\n"
   ]
  },
  {
   "cell_type": "markdown",
   "id": "1fe68613-adf1-4ac9-aba1-a64ed20cf828",
   "metadata": {},
   "source": [
    "We use classes to help with managing this data and the operations we would want to perform on it. <br>\n",
    "A class is a template (blueprint) for a structured piece of data, so when we create some data using a class, we can be certain that it has the same structure each time"
   ]
  },
  {
   "cell_type": "markdown",
   "id": "6d03fd1a-a5e3-4047-b893-5dc48f98135f",
   "metadata": {},
   "source": [
    "### What might be another way to represent these data about human subjects and the operations we might perform on it? "
   ]
  },
  {
   "cell_type": "markdown",
   "id": "80d7c8a9-5e27-46d3-84f4-6c080c523b6f",
   "metadata": {},
   "source": [
    "* Use a single class as a blueprint for each human subject"
   ]
  },
  {
   "cell_type": "markdown",
   "id": "213b5591-b59b-4c45-ac86-a507887036b5",
   "metadata": {},
   "source": [
    "### Creating a class\n",
    "\n",
    "*   Syntax \n",
    "```python\n",
    "class HumanSubject:\n",
    "    pass\n",
    "```\n"
   ]
  },
  {
   "cell_type": "code",
   "execution_count": null,
   "id": "2fd37247-349e-42f0-be20-8cf91a07cbfd",
   "metadata": {},
   "outputs": [],
   "source": []
  },
  {
   "cell_type": "markdown",
   "id": "f1ae98ad-54ca-4f7f-ae7f-dba23f1b7d81",
   "metadata": {},
   "source": [
    "This creates a HumanSubject class with no attributes or methods yet"
   ]
  },
  {
   "cell_type": "markdown",
   "id": "3e38f40c-d00a-4136-8936-18e427eabe4c",
   "metadata": {},
   "source": [
    "Usually, classes have both attributes and methods  \n",
    "* Attributes represent the data members of the class. Attributes can be of various data types, including integers, strings, lists, dictionaries \n",
    "* Methods are functions specific to a class "
   ]
  },
  {
   "cell_type": "markdown",
   "id": "04635a06-f0a7-43c8-8007-b21d043b907b",
   "metadata": {},
   "source": [
    "Lists, dictionaries and sets are a slightly special type of class, but they behave in much the same way as a class we might define ourselves:\n",
    "\n",
    "    They each hold some data (attributes).\n",
    "    They also provide some methods describing the behaviours of the data - what can the data do and what can we do to the data?\n"
   ]
  },
  {
   "cell_type": "code",
   "execution_count": null,
   "id": "bcb4e027-b576-465b-be4b-ccc97d1f58ea",
   "metadata": {},
   "outputs": [],
   "source": []
  },
  {
   "cell_type": "markdown",
   "id": "9ea1050a-97a3-4dfa-bbb6-b6c84b718899",
   "metadata": {},
   "source": [
    "Difference between class and an instance of class \n",
    "* Class is a blueprint for creating instances (object)\n",
    "* Each new human subject we create using the HumanSubject class will be an instance of that class\n",
    "\n",
    "```python\n",
    "human_1 = HumanSubject()\n",
    "human_2 = HumanSubject()\n",
    "print(human_1)\n",
    "print(human_2)\n",
    "```"
   ]
  },
  {
   "cell_type": "code",
   "execution_count": null,
   "id": "6a031222-d92e-4baf-a743-36ae8b474c76",
   "metadata": {},
   "outputs": [],
   "source": []
  },
  {
   "cell_type": "markdown",
   "id": "69d67527-6b18-4e1c-a713-3f7d5fd57ddd",
   "metadata": {},
   "source": [
    "* Both are unique"
   ]
  },
  {
   "cell_type": "markdown",
   "id": "bc7a38a5-6123-42ad-9b49-0a35f2af4ff6",
   "metadata": {},
   "source": [
    "In a class, variables can be instance variables or class variables <br>\n",
    "* Instance variables contain data unique to each instance of the class "
   ]
  },
  {
   "cell_type": "markdown",
   "id": "f2caad2e-39c4-48cb-9338-1a96a4f02b8b",
   "metadata": {},
   "source": [
    "### Manually creating instance variables \n",
    "```python\n",
    "human_1.name = 'Bob' \n",
    "human_1.height = ...\n",
    "```"
   ]
  },
  {
   "cell_type": "code",
   "execution_count": null,
   "id": "4a43821f-5aa4-4785-86c1-3558722ba4e6",
   "metadata": {},
   "outputs": [],
   "source": []
  },
  {
   "cell_type": "code",
   "execution_count": null,
   "id": "f9e88d38-7b9c-4da7-a8f8-daf6c9a24da5",
   "metadata": {},
   "outputs": [],
   "source": [
    "print(human_1.weight)\n",
    "print(human_2.weight)"
   ]
  },
  {
   "cell_type": "markdown",
   "id": "74c9822a-2880-4236-9beb-766d9e304e64",
   "metadata": {},
   "source": [
    "### Is there a better way to do this attribute assignment? "
   ]
  },
  {
   "cell_type": "markdown",
   "id": "fd8d5b77-099e-40f5-967b-9e6a5d970d20",
   "metadata": {},
   "source": [
    "We can do it when the instance is created using the init method\n",
    "Syntax\n",
    "```python\n",
    "class HumanSubject:\n",
    "    def __init__(self): \n",
    "        pass\n",
    "    \n",
    "```\n",
    "\n",
    "* Methods created within a class receive the instance as the first argument automatically"
   ]
  },
  {
   "cell_type": "code",
   "execution_count": null,
   "id": "4c737e56-6098-46af-acfa-3737dd37ede3",
   "metadata": {},
   "outputs": [],
   "source": []
  },
  {
   "cell_type": "markdown",
   "id": "39d3bb9c-69c5-49c7-8ec8-84599a99ea7d",
   "metadata": {},
   "source": [
    "* Setting value using self.name is same as setting it manually using the human_1.name"
   ]
  },
  {
   "cell_type": "markdown",
   "id": "2b3cfb4c-7bd1-4600-bf53-5879159b4276",
   "metadata": {},
   "source": [
    "Rules about naming: \n",
    "* 'self' is only the convention \n",
    "* argument names and attribute names do not have to match"
   ]
  },
  {
   "cell_type": "code",
   "execution_count": null,
   "id": "b84b97c9-7307-4eaa-a64b-414536d3f263",
   "metadata": {},
   "outputs": [],
   "source": []
  },
  {
   "cell_type": "markdown",
   "id": "0cbbd0c5-4cec-44f7-b9fa-e3ad73802000",
   "metadata": {},
   "source": [
    "* Create instances and define their attributes automatically by passing into the init method"
   ]
  },
  {
   "cell_type": "code",
   "execution_count": null,
   "id": "27b5e6c0-90c1-482e-bfd5-7ef32cd81931",
   "metadata": {},
   "outputs": [],
   "source": []
  },
  {
   "cell_type": "markdown",
   "id": "13c57141-5947-4401-a64e-3782c82c85fa",
   "metadata": {},
   "source": [
    "Note that the instance is passed automatically, so we can leave off self"
   ]
  },
  {
   "cell_type": "markdown",
   "id": "648e329f-7bf2-40a2-9e40-bf4d91dda3b8",
   "metadata": {},
   "source": [
    "What happens when the instance is created using this method? \n",
    "* The init method will run automatically"
   ]
  },
  {
   "cell_type": "markdown",
   "id": "59aaa7e9-4ef4-4827-a4df-9425df726eca",
   "metadata": {},
   "source": [
    "We have added several attributes to the class including name, height and weight. <br>\n",
    "Now, we can add some methods to our class <br>\n",
    "Let's say we wanted to compute the BMI of the human subjects. <br>\n",
    "Remember that the BMI is calculated as 0.453 * weight (lbs)/(height(in cm)/100)**2"
   ]
  },
  {
   "cell_type": "markdown",
   "id": "071b3ac9-f7a8-436f-ba43-9c8039181938",
   "metadata": {},
   "source": [
    "Let's first do this manually outside the class"
   ]
  },
  {
   "cell_type": "code",
   "execution_count": null,
   "id": "1230cb12-2547-446b-95b2-2aed083c806b",
   "metadata": {},
   "outputs": [],
   "source": []
  },
  {
   "cell_type": "markdown",
   "id": "ebbd26a9-0509-40e3-b3b6-3f00f1f60ef6",
   "metadata": {},
   "source": [
    "A better approach is to put a method within our class that provides this functionality\n",
    "```python\n",
    "class HumanSubject:\n",
    "    def __init__(self, name): \n",
    "        ...\n",
    "    def bmi(self): \n",
    "        ...\n",
    "    \n",
    "```\n",
    "\n",
    "Each method automatically takes the instance as the first argument"
   ]
  },
  {
   "cell_type": "markdown",
   "id": "763ae893-95b6-47ee-acf4-1d6548439964",
   "metadata": {},
   "source": [
    "* Think what arguments would we need to compute the BMI and implement the bmi method "
   ]
  },
  {
   "cell_type": "code",
   "execution_count": null,
   "id": "c1bedc91-0c19-45e8-a1ae-020c349d1f5e",
   "metadata": {},
   "outputs": [],
   "source": []
  },
  {
   "cell_type": "code",
   "execution_count": null,
   "id": "444b1e17-afe7-450f-84e8-86f7fb661783",
   "metadata": {},
   "outputs": [],
   "source": [
    "print(human_1.bmi())"
   ]
  },
  {
   "cell_type": "markdown",
   "id": "3ae95297-a53f-4509-8eec-1c6678a0a905",
   "metadata": {},
   "source": [
    "What if we left off the self argument for the instance method?"
   ]
  },
  {
   "cell_type": "code",
   "execution_count": null,
   "id": "7e8a2ec2-724e-4c14-afb8-628e28e72eff",
   "metadata": {},
   "outputs": [],
   "source": []
  },
  {
   "cell_type": "markdown",
   "id": "6065a974-06bb-4e91-b7c0-4d58efabc91d",
   "metadata": {},
   "source": [
    "We can also run these method using the class name \n",
    "```python\n",
    "HumanSubject.bmi(human_1)\n",
    "```\n",
    "Compare to \n",
    "```python\n",
    "human_1.bmi()\n",
    "```"
   ]
  },
  {
   "cell_type": "code",
   "execution_count": null,
   "id": "7dcf9756-2aa4-4fbd-ada9-e366afe99609",
   "metadata": {},
   "outputs": [],
   "source": []
  },
  {
   "cell_type": "markdown",
   "id": "4404e03a-42d2-45be-8eb9-b962e6953a36",
   "metadata": {},
   "source": [
    "### An example of a Neuron class "
   ]
  },
  {
   "cell_type": "markdown",
   "id": "40a7a1fe-5932-44b4-b2fa-6059382f6b79",
   "metadata": {},
   "source": [
    "```python\n",
    "class Neuron:\n",
    "    def __init__(self, activation_threshold=0.5, is_firing=False):\n",
    "        self.activation_threshold = activation_threshold\n",
    "        self.is_firing = is_firing\n",
    "\n",
    "    def activate(self, input_signal):\n",
    "        if input_signal >= self.activation_threshold:\n",
    "            self.is_firing = True\n",
    "        else:\n",
    "            self.is_firing = False\n",
    "\n",
    "```"
   ]
  },
  {
   "cell_type": "code",
   "execution_count": null,
   "id": "c1c771ba-180d-4cc5-91af-7228677c082e",
   "metadata": {},
   "outputs": [],
   "source": []
  },
  {
   "cell_type": "markdown",
   "id": "aa5eebfd-cfa0-4615-9f62-9510ff4940af",
   "metadata": {},
   "source": [
    "* How can we create instances of this class? "
   ]
  },
  {
   "cell_type": "markdown",
   "id": "588724c2-eb2c-47e2-a491-cfc524c2acc3",
   "metadata": {},
   "source": [
    "Each instance of the Neuron class has attributes such as activation_threshold and is_firing. The activate method simulates the activation of the neuron based on an input signal, updating the is_firing attribute accordingly. We can create two instances of the Neuron class and simulate their activation with different input signals. Finally, we print out the firing status of each neuron after activation.\n"
   ]
  },
  {
   "cell_type": "code",
   "execution_count": null,
   "id": "a861fed5-99f6-4273-8532-77b48b1d4e58",
   "metadata": {},
   "outputs": [],
   "source": [
    "# Creating instances of the Neuron class\n",
    "neuron1 = Neuron()  # Using default activation threshold and firing status\n",
    "neuron2 = Neuron(0.7)  # Custom activation threshold with default firing status\n",
    "\n",
    "# Simulating activation with input signals\n",
    "neuron1.activate(0.6)\n",
    "neuron2.activate(0.4)\n",
    "\n",
    "# Displaying the firing status of each neuron\n",
    "print(\"Neuron 1 is firing:\", neuron1.is_firing)  # Output: True (assuming input_signal >= 0.5)\n",
    "print(\"Neuron 2 is firing:\", neuron2.is_firing)  # Output: False (assuming input_signal < 0.7)\n"
   ]
  },
  {
   "cell_type": "markdown",
   "id": "8d96dda9-dc3f-46f4-9660-80df1b196566",
   "metadata": {},
   "source": [
    "## Key Points Summary:\n",
    "- Learnt why we need classes \n",
    "- Learnt how to create classes \n",
    "- Differences between a class and an instance of a class \n",
    "- Initialize instance variables \n",
    "- How to create methods"
   ]
  }
 ],
 "metadata": {
  "kernelspec": {
   "display_name": "Python 3 (ipykernel)",
   "language": "python",
   "name": "python3"
  },
  "language_info": {
   "codemirror_mode": {
    "name": "ipython",
    "version": 3
   },
   "file_extension": ".py",
   "mimetype": "text/x-python",
   "name": "python",
   "nbconvert_exporter": "python",
   "pygments_lexer": "ipython3",
   "version": "3.12.2"
  }
 },
 "nbformat": 4,
 "nbformat_minor": 5
}
