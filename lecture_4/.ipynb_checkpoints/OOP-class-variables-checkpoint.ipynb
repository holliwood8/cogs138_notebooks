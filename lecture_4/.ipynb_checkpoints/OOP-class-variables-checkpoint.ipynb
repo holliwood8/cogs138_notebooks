{
 "cells": [
  {
   "cell_type": "markdown",
   "id": "04cdb865-23f5-4c7e-b974-bd38aa324d01",
   "metadata": {},
   "source": [
    "# Object Oriented Programming\n",
    "# Class variables\n",
    "---\n",
    "\n",
    "\n",
    "## Questions and Learning Objectives \n",
    "- What are class variables and how do they differ from instance variables?  \n",
    "- How would we want to use class variables? \n"
   ]
  },
  {
   "cell_type": "markdown",
   "id": "10d71167-de90-4703-a06d-b5a2029a3254",
   "metadata": {},
   "source": [
    "Our class example\n",
    "```python\n",
    "class HumanSubject:\n",
    "    def __init__(self, name, height, weight): \n",
    "        self.name = name \n",
    "        self.height = height \n",
    "        self.weight = weight \n",
    "        \n",
    "    def bmi(self): \n",
    "        return 0.453 * self.weight/ ((self.height/100)**2)\n",
    "```"
   ]
  },
  {
   "cell_type": "markdown",
   "id": "889289b1-6cdf-411b-b421-7aa02d5eeb8c",
   "metadata": {},
   "source": [
    "* Instance variables are used for storing data that is unique to each instance\n",
    "* Class variables are variables that are shared among all instances of the class"
   ]
  },
  {
   "cell_type": "markdown",
   "id": "8f8737d5-b40b-4a34-b2f3-97b350bacd45",
   "metadata": {},
   "source": [
    "What kind of data would we want to be shared across all instances of this class? "
   ]
  },
  {
   "cell_type": "markdown",
   "id": "1b2b0657-67b1-43d2-9423-0696bf11ee38",
   "metadata": {},
   "source": [
    "Compare the value to some estimates of the population mean <br>\n",
    "mean_bmi_estimate = 28.1 <br>\n",
    "std_bmi_estimate = 5.3 <br>"
   ]
  },
  {
   "cell_type": "markdown",
   "id": "dc79b84a-38d3-4fc7-b880-fb064144468c",
   "metadata": {},
   "source": [
    "Implement a method to compare bmi values with mean estimates "
   ]
  },
  {
   "cell_type": "markdown",
   "id": "b86e9bfa-cfd4-4ff1-8dcb-b86c690def5c",
   "metadata": {},
   "source": [
    "### Step 1: Hard-code the values"
   ]
  },
  {
   "cell_type": "markdown",
   "id": "4a9b1698-18c9-45d2-826d-529045113140",
   "metadata": {},
   "source": [
    "```python\n",
    "class HumanSubject:\n",
    "    def __init__(self, name, height, weight): \n",
    "        self.name = name \n",
    "        self.height = height \n",
    "        self.weight = weight \n",
    "        \n",
    "    def bmi(self): \n",
    "        return 0.453 * self.weight/ ((self.height/100)**2)\n",
    "\n",
    "    def compare_with_population(self): \n",
    "        pass\n",
    "```"
   ]
  },
  {
   "cell_type": "code",
   "execution_count": null,
   "id": "6ecb5a56-5a11-4b18-9136-21d64908192d",
   "metadata": {},
   "outputs": [],
   "source": []
  },
  {
   "cell_type": "markdown",
   "id": "389525e2-692c-4038-860e-39b7d48950ab",
   "metadata": {},
   "source": [
    "```python\n",
    "human_1 = HumanSubject('Bob', 170, 160)\n",
    "human_2 = HumanSubject('Alice', 160, 140)\n",
    "\n",
    "```"
   ]
  },
  {
   "cell_type": "code",
   "execution_count": null,
   "id": "0374bb50-fee6-4839-9791-e90d26b9ec05",
   "metadata": {},
   "outputs": [],
   "source": []
  },
  {
   "cell_type": "markdown",
   "id": "72056803-2683-4409-8494-d3c271ae4301",
   "metadata": {},
   "source": [
    "```python\n",
    "print(human_1.compare_with_population())\n",
    "\n",
    "```"
   ]
  },
  {
   "cell_type": "code",
   "execution_count": null,
   "id": "93196203-fe1a-4082-88a8-97bf06ff2ca1",
   "metadata": {},
   "outputs": [],
   "source": []
  },
  {
   "cell_type": "markdown",
   "id": "61312b4c-661c-4de1-a5c0-265d0d0cc980",
   "metadata": {},
   "source": [
    "* But this doesn't tell us how the comparison was performed - doesn't give the mean and standard deviation of the BMI values\n",
    "* Ideally, we would have wanted to access the mean using something like the following\n",
    "```python\n",
    "human_1.mean_bmi_estimate \n",
    "Human.mean_bmi_estimate \n",
    "```\n",
    "* Cannot easily update the estimates "
   ]
  },
  {
   "cell_type": "code",
   "execution_count": null,
   "id": "7ec52890-0336-4e39-8479-4c7ea9b3922c",
   "metadata": {},
   "outputs": [],
   "source": []
  },
  {
   "cell_type": "markdown",
   "id": "771bcf41-0075-49fe-bbaa-ee5bf69ccc25",
   "metadata": {},
   "source": [
    "### Step 2: Create a class variable"
   ]
  },
  {
   "cell_type": "markdown",
   "id": "e423ea23-1dd5-4058-842f-5fdc26a04af4",
   "metadata": {},
   "source": [
    "```python\n",
    "class HumanSubject:\n",
    "    \n",
    "    mean_bmi_estimate = 28.1 \n",
    "    std_bmi_estimate = 5.3\n",
    "    \n",
    "    def __init__(self, name, height, weight): \n",
    "        self.name = name \n",
    "        self.height = height \n",
    "        self.weight = weight \n",
    "        \n",
    "    def bmi(self): \n",
    "        return 0.453 * self.weight/ ((self.height/100)**2)\n",
    "\n",
    "    def compare_with_population(self): \n",
    "        pass\n",
    "```"
   ]
  },
  {
   "cell_type": "code",
   "execution_count": null,
   "id": "56f19601-787f-49a0-b78b-a522c52c5178",
   "metadata": {},
   "outputs": [],
   "source": []
  },
  {
   "cell_type": "markdown",
   "id": "0118e74c-ec3a-4e6f-99ac-2810eede7500",
   "metadata": {},
   "source": [
    "Using the class variables without specifiying the class name or instance throws an error! <br>\n",
    "Two ways of accessing class variables within methods: \n",
    "* HumanSubject.mean_bmi_estimate\n",
    "* self.mean_bmi_estimate"
   ]
  },
  {
   "cell_type": "code",
   "execution_count": null,
   "id": "2ab5286d-8d55-4a95-95b8-79dc29c1aa84",
   "metadata": {},
   "outputs": [],
   "source": []
  },
  {
   "cell_type": "markdown",
   "id": "bb18d0ee-5a39-45ce-ac46-b91daa4677ac",
   "metadata": {},
   "source": [
    "Why can we access class variables in an instance? <br>\n",
    "Try running the following: \n",
    "```python\n",
    "print(HumanSubject.mean_bmi_estimate)\n",
    "print(human_1.mean_bmi_estimate)\n",
    "print(human_2.mean_bmi_estimate)\n",
    "```"
   ]
  },
  {
   "cell_type": "code",
   "execution_count": null,
   "id": "5e9a046e-e0f5-47ac-b527-6f9e4d9ea717",
   "metadata": {},
   "outputs": [],
   "source": []
  },
  {
   "cell_type": "markdown",
   "id": "7f8c60ae-8c1c-4664-bd0d-1fd54b1b00d6",
   "metadata": {},
   "source": [
    "Class variables can be accessed from both classes and instances <br>\n",
    "* Python first checks if the instance contains the attribute\n",
    "* If it doesn't, it checks if the class or any class it inherits from contains the attribute or not"
   ]
  },
  {
   "cell_type": "code",
   "execution_count": null,
   "id": "2a1fe4a1-322a-4c0d-a709-f856837940dd",
   "metadata": {},
   "outputs": [],
   "source": []
  },
  {
   "cell_type": "markdown",
   "id": "ee29f86a-d257-468f-8ae8-ee16fbf21f9b",
   "metadata": {},
   "source": [
    "Try to understand the namespace of of the class and the instance of the class\n",
    "```python\n",
    "print(human_1.__dict__)\n",
    "print(HumanSubject.__dict__)\n",
    "```"
   ]
  },
  {
   "cell_type": "code",
   "execution_count": null,
   "id": "974e2093-658b-48b0-9376-d763e9286419",
   "metadata": {},
   "outputs": [],
   "source": []
  },
  {
   "cell_type": "markdown",
   "id": "b40d77c0-a342-4560-af69-1353e9b748c1",
   "metadata": {},
   "source": [
    "Now let's say the class variable changes. What happens then?\n",
    "```python\n",
    "HumanSubject.mean_bmi_estimate = 29\n",
    "print(HumanSubject.mean_bmi_estimate)\n",
    "print(human_1.mean_bmi_estimate)\n",
    "print(human_2.mean_bmi_estimate)\n",
    "```"
   ]
  },
  {
   "cell_type": "code",
   "execution_count": null,
   "id": "c2679216-a395-4fae-bfef-1befc0782d60",
   "metadata": {},
   "outputs": [],
   "source": []
  },
  {
   "cell_type": "markdown",
   "id": "6fdf6e39-fe5f-4913-9ae0-537960079223",
   "metadata": {},
   "source": [
    "What if we change the class variable using the instance? \n",
    "```python\n",
    "human_1.mean_bmi_estimate = 29\n",
    "print(HumanSubject.mean_bmi_estimate)\n",
    "print(human_1.mean_bmi_estimate)\n",
    "print(human_2.mean_bmi_estimate)\n",
    "```"
   ]
  },
  {
   "cell_type": "code",
   "execution_count": null,
   "id": "8c73bb0f-c633-4719-909c-241deffd82f7",
   "metadata": {},
   "outputs": [],
   "source": []
  },
  {
   "cell_type": "markdown",
   "id": "a83222a1-d621-47d4-a466-2acab8a7698b",
   "metadata": {},
   "source": [
    "Why did this happen? <br>\n",
    "Try checking the dict again!"
   ]
  },
  {
   "cell_type": "code",
   "execution_count": null,
   "id": "ebfc2051-df08-4065-bfee-35bc99b680ed",
   "metadata": {},
   "outputs": [],
   "source": []
  },
  {
   "cell_type": "markdown",
   "id": "dd1bf13e-3e1d-47f6-b276-b60e1ed9151e",
   "metadata": {},
   "source": [
    "It created a mean_bmi_estimate attribute within human_1 <br>\n",
    "Now python first looks for the attribute mean_bmi_estimate within the instance's namespace before searching for that value in the class namespace"
   ]
  },
  {
   "cell_type": "markdown",
   "id": "8fd6520d-8fb6-45e6-ac5b-980dcc028c7b",
   "metadata": {},
   "source": [
    "compare_with_population() can give different results depending on whether we use HumansSubject.mean_bmi_estimate or self.mean_bmi_estimate!\n",
    "\n",
    "```python\n",
    "class HumanSubject:\n",
    "    \n",
    "    mean_bmi_estimate = 28.1 \n",
    "    std_bmi_estimate = 5.3\n",
    "    \n",
    "    def __init__(self, name, height, weight): \n",
    "        self.name = name \n",
    "        self.height = height \n",
    "        self.weight = weight \n",
    "        \n",
    "    def bmi(self): \n",
    "        return 0.453 * self.weight/ ((self.height/100)**2)\n",
    "\n",
    "    def compare_with_population(self): \n",
    "        pass\n",
    "```"
   ]
  },
  {
   "cell_type": "markdown",
   "id": "81cfed6e-56cd-4a69-9402-b961adc2f168",
   "metadata": {},
   "source": [
    "Using self.class_variable allows us to change the amount for a single instance if we wanted to <br>"
   ]
  },
  {
   "cell_type": "code",
   "execution_count": null,
   "id": "23f8d827-6534-479e-811c-f6af5c9be923",
   "metadata": {},
   "outputs": [],
   "source": []
  },
  {
   "cell_type": "markdown",
   "id": "6c201f9b-e78e-42f7-b8a2-e1d7f8fdf8ae",
   "metadata": {},
   "source": [
    "Another variable we could store as a class variable could be the number of human subjects we have in our data\n",
    "```python\n",
    "class HumanSubject:\n",
    "    num_subjects = 0\n",
    "    mean_bmi_estimate = 28.1 \n",
    "    std_bmi_estimate = 5.3\n",
    "    \n",
    "    def __init__(self, name, height, weight): \n",
    "        self.name = name \n",
    "        self.height = height \n",
    "        self.weight = weight \n",
    "        \n",
    "    def bmi(self): \n",
    "        return 0.453 * self.weight/ ((self.height/100)**2)\n",
    "\n",
    "    def compare_with_population(self): \n",
    "        return (self.bmi() - self.mean_bmi_estimate)/self.std_bmi_estimate\n",
    "```"
   ]
  },
  {
   "cell_type": "markdown",
   "id": "c96de5db-d915-41e9-b3e3-499b24d71661",
   "metadata": {},
   "source": [
    "Let's say we want to this variable each time we create a new instance. Do that in the next cell <br>\n",
    "Should we use self.num_subjects or HumanSubject.num_subjects? "
   ]
  },
  {
   "cell_type": "code",
   "execution_count": null,
   "id": "3989224d-92a0-48be-a89a-c288dcf995af",
   "metadata": {},
   "outputs": [],
   "source": []
  },
  {
   "cell_type": "markdown",
   "id": "ab36e46b-a43e-4538-a59a-bb384cc78849",
   "metadata": {},
   "source": [
    "```python \n",
    "human_1 = HumanSubject('Bob', 170, 160)\n",
    "human_2 = HumanSubject('Alice', 160, 140)\n",
    "print(HumanSubject.num_subjects)\n",
    "```"
   ]
  },
  {
   "cell_type": "code",
   "execution_count": null,
   "id": "9e8a0652-8c2a-400d-944f-7a32f43b638b",
   "metadata": {},
   "outputs": [],
   "source": []
  },
  {
   "cell_type": "markdown",
   "id": "9d8d0a36-9e59-4fd8-925e-190d9ef73a36",
   "metadata": {},
   "source": [
    "## Key Points Summary:\n",
    "- Learnt the difference between instance and class variables \n",
    "- Learnt when to use each one"
   ]
  }
 ],
 "metadata": {
  "kernelspec": {
   "display_name": "Python 3 (ipykernel)",
   "language": "python",
   "name": "python3"
  },
  "language_info": {
   "codemirror_mode": {
    "name": "ipython",
    "version": 3
   },
   "file_extension": ".py",
   "mimetype": "text/x-python",
   "name": "python",
   "nbconvert_exporter": "python",
   "pygments_lexer": "ipython3",
   "version": "3.12.2"
  }
 },
 "nbformat": 4,
 "nbformat_minor": 5
}
