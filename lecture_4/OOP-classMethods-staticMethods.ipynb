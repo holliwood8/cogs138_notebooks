{
 "cells": [
  {
   "cell_type": "markdown",
   "id": "eefe67d9-d66d-4246-8b3d-e26ca8b90803",
   "metadata": {},
   "source": [
    "# Object Oriented Programming\n",
    "# Class methods and static methods\n",
    "---\n",
    "\n",
    "\n",
    "## Questions and Learning Objectives \n",
    "- What is the difference between regular methods, class methods and static methods?  "
   ]
  },
  {
   "cell_type": "markdown",
   "id": "5c2d8a92-1c69-4dc6-b269-27f0eb4f9e22",
   "metadata": {},
   "source": [
    "* Regular methods automatically take the instance as the first argument\n",
    "```python\n",
    "class HumanSubject:\n",
    "    num_subjects = 0\n",
    "    mean_bmi_estimate = 28.1 \n",
    "    std_bmi_estimate = 5.3\n",
    "    \n",
    "    def __init__(self, name, height, weight): \n",
    "        self.name = name \n",
    "        self.height = height \n",
    "        self.weight = weight \n",
    "        \n",
    "    def bmi(self): \n",
    "        return 0.453 * self.weight/ ((self.height/100)**2)\n",
    "\n",
    "    def compare_with_population(self): \n",
    "        return (self.bmi() - self.mean_bmi_estimate)/self.std_bmi_estimate\n",
    "```\n"
   ]
  },
  {
   "cell_type": "markdown",
   "id": "8503d9be-5b5a-425e-8b4f-6567fbf64e8a",
   "metadata": {},
   "source": [
    "## Class Methods"
   ]
  },
  {
   "cell_type": "markdown",
   "id": "26492dd2-1f38-431a-8c7c-54be1d34d9b1",
   "metadata": {},
   "source": [
    "How can we modify them to take class as the argument instead? <br>\n",
    "Use the classmethod decorator to alter the functionality of the method\n",
    "\n",
    "\n",
    "```python\n",
    "class HumanSubject:\n",
    "    num_subjects = 0\n",
    "    mean_bmi_estimate = 28.1 \n",
    "    std_bmi_estimate = 5.3\n",
    "    \n",
    "    def __init__(self, name, height, weight): \n",
    "        self.name = name \n",
    "        self.height = height \n",
    "        self.weight = weight \n",
    "        \n",
    "    def bmi(self): \n",
    "        return 0.453 * self.weight/ ((self.height/100)**2)\n",
    "\n",
    "    def compare_with_population(self): \n",
    "        return (self.bmi() - self.mean_bmi_estimate)/self.std_bmi_estimate\n",
    "\n",
    "    @classmethod\n",
    "    def set_mean_bmi(cls, mean_bmi): \n",
    "        pass\n",
    "```\n"
   ]
  },
  {
   "cell_type": "markdown",
   "id": "61cead1a-8e91-4dd4-b6f2-8a9c77c46099",
   "metadata": {},
   "source": [
    "* cls is the convention (Note that we cannot use class)"
   ]
  },
  {
   "cell_type": "markdown",
   "id": "778fd342-82d6-4250-9039-d8a2e005072b",
   "metadata": {},
   "source": [
    "```python\n",
    "class HumanSubject:\n",
    "    num_subjects = 0\n",
    "    mean_bmi_estimate = 28.1 \n",
    "    std_bmi_estimate = 5.3\n",
    "    \n",
    "    def __init__(self, name, height, weight): \n",
    "        self.name = name \n",
    "        self.height = height \n",
    "        self.weight = weight \n",
    "        \n",
    "    def bmi(self): \n",
    "        return 0.453 * self.weight/ ((self.height/100)**2)\n",
    "\n",
    "    def compare_with_population(self): \n",
    "        return (self.bmi() - self.mean_bmi_estimate)/self.std_bmi_estimate\n",
    "\n",
    "    @classmethod\n",
    "    def set_mean_bmi(cls, mean_bmi): \n",
    "        cls.mean_bmi_estimate = mean_bmi\n",
    "```\n"
   ]
  },
  {
   "cell_type": "code",
   "execution_count": null,
   "id": "f29cf364-2abf-430d-bc8a-0eb478b0467f",
   "metadata": {},
   "outputs": [],
   "source": []
  },
  {
   "cell_type": "markdown",
   "id": "9a0f3e6c-5ee3-4a45-bd38-e59fd2aa283f",
   "metadata": {},
   "source": [
    "```python\n",
    "human_1 = HumanSubject('Bob', 170, 160)\n",
    "human_2 = HumanSubject('Alice', 160, 140)\n",
    "\n",
    "print(Human.mean_bmi_estimate)\n",
    "print(human_1.mean_bmi_estimate)\n",
    "print(human_2.mean_bmi_estimate)\n",
    "```"
   ]
  },
  {
   "cell_type": "code",
   "execution_count": null,
   "id": "9abd12cc-5fc1-467a-b25b-669ca101da52",
   "metadata": {},
   "outputs": [],
   "source": []
  },
  {
   "cell_type": "markdown",
   "id": "e4d885e5-bda2-4f8e-add6-81a5bce5e7ee",
   "metadata": {},
   "source": [
    "Update the class variable mean_bmi_estimate using the set_mean_bmi method and again print the above values"
   ]
  },
  {
   "cell_type": "code",
   "execution_count": null,
   "id": "b8940ab9-1500-4235-9bef-4fc2fd332648",
   "metadata": {},
   "outputs": [],
   "source": []
  },
  {
   "cell_type": "markdown",
   "id": "6446b056-3705-4f1c-9c6c-08ab21963e5b",
   "metadata": {},
   "source": [
    "### Using class methods as alternative constructors "
   ]
  },
  {
   "cell_type": "markdown",
   "id": "c87c5e56-bebd-42e5-96b5-26856752c183",
   "metadata": {},
   "source": [
    "Use case: <br>\n",
    "Suppose we get data in the form of a string separated by commas  <br>\n",
    "'Alex, 180, 130' <br>\n",
    "Can we create the instance using the string directly?"
   ]
  },
  {
   "cell_type": "markdown",
   "id": "7ee32461-daa1-4998-8bf1-362180b3d1df",
   "metadata": {},
   "source": [
    "Method 1: Parse the string the use the init method "
   ]
  },
  {
   "cell_type": "markdown",
   "id": "a583330e-fe41-42ee-92a0-bff79deb58eb",
   "metadata": {},
   "source": [
    "```python\n",
    "sub_string_1 = 'Alex, 170, 180' \n",
    "sub_string_2 = 'Jess, 150, 125' \n",
    "```"
   ]
  },
  {
   "cell_type": "code",
   "execution_count": null,
   "id": "51dfd12c-3260-443f-b261-700cf20c5f8b",
   "metadata": {},
   "outputs": [],
   "source": []
  },
  {
   "cell_type": "markdown",
   "id": "2250299a-a7c8-493a-8de3-2db22fe5488e",
   "metadata": {},
   "source": [
    "Method 2: Use an alternative constructor\n",
    "```python\n",
    "class HumanSubject:\n",
    "    num_subjects = 0\n",
    "    mean_bmi_estimate = 28.1 \n",
    "    std_bmi_estimate = 5.3\n",
    "    \n",
    "    def __init__(self, name, height, weight): \n",
    "        self.name = name \n",
    "        self.height = height \n",
    "        self.weight = weight \n",
    "        \n",
    "    def bmi(self): \n",
    "        return 0.453 * self.weight/ ((self.height/100)**2)\n",
    "\n",
    "    def compare_with_population(self): \n",
    "        return (self.bmi() - self.mean_bmi_estimate)/self.std_bmi_estimate\n",
    "\n",
    "    @classmethod\n",
    "    def set_mean_bmi(cls, mean_bmi): \n",
    "        cls.mean_bmi_estimate = mean_bmi\n",
    "\n",
    "    @classmethod\n",
    "    def from_string(cls, subject_string): \n",
    "        pass\n",
    "\n",
    "```"
   ]
  },
  {
   "cell_type": "code",
   "execution_count": null,
   "id": "85fa2ece-94f5-4a2f-a5e8-3c3f73f0bd2c",
   "metadata": {},
   "outputs": [],
   "source": []
  },
  {
   "cell_type": "markdown",
   "id": "d8aabb88-de87-4abb-b03a-3ae727a106ae",
   "metadata": {},
   "source": [
    "```python \n",
    "new_emp_1 = HumanSubject.from_string(sub_string_1)\n",
    "print(new_emp_1.name)\n",
    "print(new_emp_1.height)\n",
    "print(new_emp_1.weight)\n",
    "```"
   ]
  },
  {
   "cell_type": "code",
   "execution_count": null,
   "id": "ad1e0fb1-e74b-4a16-8b03-a77a566c1f04",
   "metadata": {},
   "outputs": [],
   "source": []
  },
  {
   "cell_type": "markdown",
   "id": "245c3059-3034-4655-86e2-be46d302bd5c",
   "metadata": {},
   "source": [
    "## Static Methods"
   ]
  },
  {
   "cell_type": "markdown",
   "id": "d4ffb267-6e60-469a-9241-19ea442d1b53",
   "metadata": {},
   "source": [
    "* Regular methods automatically pass instance as the first argument \n",
    "* Class methods automatically pass class as the first argument\n",
    "* Static methods don't pass anything automatically\n",
    "* They behave like regular functions but are included within the class because they have some logical connection with the class "
   ]
  },
  {
   "cell_type": "markdown",
   "id": "4bd28325-96a6-464e-8f1e-1f6965eee027",
   "metadata": {},
   "source": [
    "```python\n",
    "class HumanSubject:\n",
    "    num_subjects = 0\n",
    "    mean_bmi_estimate = 28.1 \n",
    "    std_bmi_estimate = 5.3\n",
    "    \n",
    "    def __init__(self, name, height, weight): \n",
    "        self.name = name \n",
    "        self.height = height \n",
    "        self.weight = weight \n",
    "        \n",
    "    def bmi(self): \n",
    "        return 0.453 * self.weight/ ((self.height/100)**2)\n",
    "\n",
    "    def compare_with_population(self): \n",
    "        return (self.bmi() - self.mean_bmi_estimate)/self.std_bmi_estimate\n",
    "\n",
    "    @classmethod\n",
    "    def set_mean_bmi(cls, mean_bmi): \n",
    "        cls.mean_bmi_estimate = mean_bmi\n",
    "\n",
    "    @classmethod\n",
    "    def from_string(cls, subject_string): \n",
    "        name, height, weight = subject_string.split(',')\n",
    "        height, weight = int(height), int(weight)\n",
    "        return cls(name, height, weight)\n",
    "\n",
    "    @staticmethod\n",
    "    def coefficient_of_variation():\n",
    "        pass\n",
    "\n",
    "```"
   ]
  },
  {
   "cell_type": "code",
   "execution_count": null,
   "id": "19eca19d-97f6-49c0-bbc7-2ea88e8bf994",
   "metadata": {},
   "outputs": [],
   "source": []
  },
  {
   "cell_type": "markdown",
   "id": "92272d9f-63cf-4453-a39c-a6756e94f0d3",
   "metadata": {},
   "source": [
    "How to choose whether a method should be a static method or a regular/class method? \n",
    "* If it doesn't access the class or instance anywhere, it should be a static method! "
   ]
  },
  {
   "cell_type": "markdown",
   "id": "3f4a4ac3-3284-44c5-af11-50986427e98a",
   "metadata": {},
   "source": [
    "## Key Points Summary:\n",
    "- Learnt the difference between regular instance methods, class methods and static methods \n",
    "- Static methods don't operate on any instance or class"
   ]
  }
 ],
 "metadata": {
  "kernelspec": {
   "display_name": "Python 3 (ipykernel)",
   "language": "python",
   "name": "python3"
  },
  "language_info": {
   "codemirror_mode": {
    "name": "ipython",
    "version": 3
   },
   "file_extension": ".py",
   "mimetype": "text/x-python",
   "name": "python",
   "nbconvert_exporter": "python",
   "pygments_lexer": "ipython3",
   "version": "3.12.2"
  }
 },
 "nbformat": 4,
 "nbformat_minor": 5
}
